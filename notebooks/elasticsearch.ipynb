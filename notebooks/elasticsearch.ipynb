{
 "cells": [
  {
   "cell_type": "code",
   "execution_count": 11,
   "id": "initial_id",
   "metadata": {
    "collapsed": true,
    "ExecuteTime": {
     "end_time": "2023-11-09T16:39:01.200124Z",
     "start_time": "2023-11-09T16:39:01.143514Z"
    }
   },
   "outputs": [],
   "source": [
    "import re\n",
    "import sys\n",
    "import json\n",
    "import tarfile\n",
    "import urllib3\n",
    "import configparser\n",
    "\n",
    "import tensorflow_hub as hub\n",
    "import tensorflow.compat.v1 as tf\n",
    "\n",
    "from tqdm import tqdm\n",
    "from gensim.models import Doc2Vec\n",
    "from elasticsearch import Elasticsearch"
   ]
  },
  {
   "cell_type": "code",
   "execution_count": 12,
   "outputs": [],
   "source": [
    "urllib3.disable_warnings()\n",
    "\n",
    "config = configparser.ConfigParser()\n",
    "config.read('../server.ini');"
   ],
   "metadata": {
    "collapsed": false,
    "ExecuteTime": {
     "end_time": "2023-11-09T16:39:02.291871Z",
     "start_time": "2023-11-09T16:39:02.280597Z"
    }
   },
   "id": "8bee4ed33bfd4de2"
  },
  {
   "cell_type": "code",
   "execution_count": null,
   "outputs": [],
   "source": [
    "es = Elasticsearch(\n",
    "    config['ELASTIC']['path'],\n",
    "    verify_certs=False\n",
    ")"
   ],
   "metadata": {
    "collapsed": false
   },
   "id": "a0765846ceac8b21"
  },
  {
   "cell_type": "code",
   "execution_count": 14,
   "outputs": [
    {
     "data": {
      "text/plain": "ObjectApiResponse({'name': 'a976e3f6f878', 'cluster_name': 'docker-cluster', 'cluster_uuid': 'tSjSotunTNerL5c1VQMsPw', 'version': {'number': '8.11.0', 'build_flavor': 'default', 'build_type': 'docker', 'build_hash': 'd9ec3fa628c7b0ba3d25692e277ba26814820b20', 'build_date': '2023-11-04T10:04:57.184859352Z', 'build_snapshot': False, 'lucene_version': '9.8.0', 'minimum_wire_compatibility_version': '7.17.0', 'minimum_index_compatibility_version': '7.0.0'}, 'tagline': 'You Know, for Search'})"
     },
     "execution_count": 14,
     "metadata": {},
     "output_type": "execute_result"
    }
   ],
   "source": [
    "es.info()"
   ],
   "metadata": {
    "collapsed": false,
    "ExecuteTime": {
     "end_time": "2023-11-09T16:39:04.460236Z",
     "start_time": "2023-11-09T16:39:04.407102Z"
    }
   },
   "id": "7bd73deffbc91e05"
  },
  {
   "cell_type": "code",
   "execution_count": 15,
   "outputs": [],
   "source": [
    "model = Doc2Vec.load('../out/models/word2vec.model')"
   ],
   "metadata": {
    "collapsed": false,
    "ExecuteTime": {
     "end_time": "2023-11-09T16:39:12.475357Z",
     "start_time": "2023-11-09T16:39:12.407654Z"
    }
   },
   "id": "e080f62b7bd50e36"
  },
  {
   "cell_type": "code",
   "execution_count": 7,
   "outputs": [
    {
     "name": "stdout",
     "output_type": "stream",
     "text": [
      "100%|██████████| 3996/3996 [00:13<00:00, 295.93it/s]\n"
     ]
    }
   ],
   "source": [
    "specs = []\n",
    "specs_names = []\n",
    "specs_versions = []\n",
    "\n",
    "tar = tarfile.open('../data/data.tar.gz', 'r:gz')\n",
    "nl_tags = r'(?:\\'|\\\")(?:description|name|title|summary)(?:\\'|\\\"):\\s(?:\\'|\\\")([^\\'\\\"]+)(?:\\'|\\\")'\n",
    "\n",
    "for spec in tqdm(tar.getmembers(), file=sys.stdout):\n",
    "    file = tar.extractfile(spec)\n",
    "    \n",
    "    if file is not None:\n",
    "        try:\n",
    "            contents = json.load(file)\n",
    "            \n",
    "            specs_names.append(contents['info']['title'])\n",
    "            specs_versions.append(contents['info']['version'] if not contents['info']['version'].startswith('v') else contents['info']['version'][1:])\n",
    "            specs.append(' '.join(re.findall(nl_tags, str(contents))))\n",
    "        except json.JSONDecodeError:\n",
    "            continue"
   ],
   "metadata": {
    "collapsed": false,
    "ExecuteTime": {
     "end_time": "2023-11-09T16:36:24.148744Z",
     "start_time": "2023-11-09T16:36:09.371508Z"
    }
   },
   "id": "666bb89fcbea3db8"
  },
  {
   "cell_type": "code",
   "execution_count": null,
   "outputs": [],
   "source": [
    "print(\"Downloading pre-trained embeddings from tensorflow hub...\")\n",
    "tf.disable_eager_execution()\n",
    "embed = hub.Module(\"https://tfhub.dev/google/universal-sentence-encoder/2\")\n",
    "text_ph = tf.placeholder(tf.string)\n",
    "embeddings = embed(text_ph)\n",
    "print(\"Done.\")"
   ],
   "metadata": {
    "collapsed": false
   },
   "id": "750a8c5df1cd7ef0"
  },
  {
   "cell_type": "code",
   "execution_count": null,
   "outputs": [],
   "source": [
    "print(\"Creating tensorflow session...\")\n",
    "config = tf.ConfigProto()\n",
    "config.gpu_options.per_process_gpu_memory_fraction = 0.5\n",
    "session = tf.Session(config=config)\n",
    "session.run(tf.global_variables_initializer())\n",
    "session.run(tf.tables_initializer())\n",
    "print(\"Done.\")"
   ],
   "metadata": {
    "collapsed": false
   },
   "id": "79c1bfc519f5bf41"
  },
  {
   "cell_type": "code",
   "execution_count": 17,
   "outputs": [
    {
     "name": "stderr",
     "output_type": "stream",
     "text": [
      "100%|██████████| 3992/3992 [00:41<00:00, 96.82it/s] \n"
     ]
    }
   ],
   "source": [
    "for ind in tqdm(range(len(specs))):\n",
    "    es.index(\n",
    "        index='oa-specifications',\n",
    "        document= {\n",
    "            'name': specs_names[ind],\n",
    "            'version': specs_versions[ind],\n",
    "            'document_vector': session.run(embeddings, feed_dict={text_ph: [specs[ind]]}).tolist()[0]\n",
    "        }\n",
    "    )"
   ],
   "metadata": {
    "collapsed": false,
    "ExecuteTime": {
     "end_time": "2023-11-09T16:40:43.390373Z",
     "start_time": "2023-11-09T16:40:02.151781Z"
    }
   },
   "id": "5df35510d5a812c5"
  },
  {
   "cell_type": "code",
   "execution_count": 0,
   "outputs": [],
   "source": [
    "query = 'backup client'\n",
    "\n",
    "knn_query = {\n",
    "    'field': 'document_vector',\n",
    "    'query_vector': session.run(embeddings, feed_dict={text_ph: [query]}).tolist()[0],\n",
    "    'k': 5,\n",
    "    'num_candidates': 3992\n",
    "}\n",
    "\n",
    "results = es.knn_search(index='oa-specifications', knn=knn_query, source=['name', 'version'])['hits']['hits']"
   ],
   "metadata": {
    "collapsed": false
   },
   "id": "daa00fc4dd046b6e"
  },
  {
   "cell_type": "code",
   "execution_count": 23,
   "outputs": [
    {
     "name": "stdout",
     "output_type": "stream",
     "text": [
      "These are the top 5 results of the query \"backup client\":\n",
      "\n",
      "\t1. RecoveryServicesBackupClient   v.2016-06-01   [82%]\n",
      "\t2. BackupManagementClient         v.2016-05-01   [82%]\n",
      "\t3. BackupManagementClient         v.2018-09-01   [81%]\n",
      "\t4. BackupManagementClient         v.2018-09-01   [81%]\n",
      "\t5. BackupManagementClient         v.2016-05-01   [81%]\n"
     ]
    },
    {
     "name": "stderr",
     "output_type": "stream",
     "text": [
      "/var/folders/yb/m5pxnktn1l94k6xgffj6j1y00000gn/T/ipykernel_77527/3047509891.py:10: ElasticsearchWarning: The kNN search API has been replaced by the `knn` option in the search API.\n",
      "  results = es.knn_search(index='oa-specifications', knn=knn_query, source=['name', 'version'])['hits']['hits']\n"
     ]
    }
   ],
   "source": [
    "print(f'These are the top 5 results of the query \"{query}\":\\n')\n",
    "\n",
    "for ind, result in enumerate(results):\n",
    "    length_name = max([len(el['_source']['name']) for el in results]) + 2\n",
    "    length_version = max([len(el['_source']['version']) for el in results]) + 2\n",
    "\n",
    "    print(f'\\t{str(ind + 1) + \".\": <2} {result[\"_source\"][\"name\"]: <{length_name}} v.{result[\"_source\"][\"version\"]: <{length_version}} [{str(result[\"_score\"] * 100)[:2]}%]')"
   ],
   "metadata": {
    "collapsed": false,
    "ExecuteTime": {
     "start_time": "2023-11-09T17:06:56.593765Z"
    }
   },
   "id": "7714a586e10ecff7"
  }
 ],
 "metadata": {
  "kernelspec": {
   "display_name": "Python 3",
   "language": "python",
   "name": "python3"
  },
  "language_info": {
   "codemirror_mode": {
    "name": "ipython",
    "version": 2
   },
   "file_extension": ".py",
   "mimetype": "text/x-python",
   "name": "python",
   "nbconvert_exporter": "python",
   "pygments_lexer": "ipython2",
   "version": "2.7.6"
  }
 },
 "nbformat": 4,
 "nbformat_minor": 5
}
