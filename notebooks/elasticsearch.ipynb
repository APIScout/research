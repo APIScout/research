{
 "cells": [
  {
   "cell_type": "code",
   "execution_count": 1,
   "id": "initial_id",
   "metadata": {
    "collapsed": true,
    "ExecuteTime": {
     "end_time": "2023-11-15T10:57:59.773038Z",
     "start_time": "2023-11-15T10:57:56.772359Z"
    }
   },
   "outputs": [],
   "source": [
    "import re\n",
    "import sys\n",
    "import json\n",
    "import tarfile\n",
    "import urllib3\n",
    "import configparser\n",
    "\n",
    "import tensorflow_hub as hub\n",
    "import tensorflow.compat.v1 as tf\n",
    "\n",
    "from tqdm import tqdm\n",
    "from elasticsearch import Elasticsearch"
   ]
  },
  {
   "cell_type": "code",
   "execution_count": 2,
   "outputs": [],
   "source": [
    "urllib3.disable_warnings()\n",
    "\n",
    "config = configparser.ConfigParser()\n",
    "config.read('../server.ini');"
   ],
   "metadata": {
    "collapsed": false,
    "ExecuteTime": {
     "end_time": "2023-11-15T10:58:00.511604Z",
     "start_time": "2023-11-15T10:58:00.506536Z"
    }
   },
   "id": "8bee4ed33bfd4de2"
  },
  {
   "cell_type": "code",
   "execution_count": 6,
   "outputs": [],
   "source": [
    "es = Elasticsearch(\n",
    "    config['ELASTIC']['path'],\n",
    "    verify_certs=False\n",
    ")"
   ],
   "metadata": {
    "collapsed": false,
    "ExecuteTime": {
     "end_time": "2023-11-15T10:58:31.781476Z",
     "start_time": "2023-11-15T10:58:31.773788Z"
    }
   },
   "id": "a0765846ceac8b21"
  },
  {
   "cell_type": "code",
   "execution_count": 4,
   "outputs": [
    {
     "data": {
      "text/plain": "{'name': '1bb166804bb3',\n 'cluster_name': 'docker-cluster',\n 'cluster_uuid': 'm81m9H08RKigCdwIje8C6w',\n 'version': {'number': '8.11.0',\n  'build_flavor': 'default',\n  'build_type': 'docker',\n  'build_hash': 'd9ec3fa628c7b0ba3d25692e277ba26814820b20',\n  'build_date': '2023-11-04T10:04:57.184859352Z',\n  'build_snapshot': False,\n  'lucene_version': '9.8.0',\n  'minimum_wire_compatibility_version': '7.17.0',\n  'minimum_index_compatibility_version': '7.0.0'},\n 'tagline': 'You Know, for Search'}"
     },
     "execution_count": 4,
     "metadata": {},
     "output_type": "execute_result"
    }
   ],
   "source": [
    "es.info()"
   ],
   "metadata": {
    "collapsed": false,
    "ExecuteTime": {
     "end_time": "2023-11-15T10:58:01.977229Z",
     "start_time": "2023-11-15T10:58:01.935534Z"
    }
   },
   "id": "7bd73deffbc91e05"
  },
  {
   "cell_type": "code",
   "execution_count": null,
   "outputs": [],
   "source": [
    "specs = []\n",
    "specs_names = []\n",
    "specs_versions = []\n",
    "\n",
    "tar = tarfile.open('../data/data.tar.gz', 'r:gz')\n",
    "nl_tags = r'(?:\\'|\\\")(?:description|name|title|summary)(?:\\'|\\\"):\\s(?:\\'|\\\")([^\\'\\\"]+)(?:\\'|\\\")'\n",
    "\n",
    "for spec in tqdm(tar.getmembers(), file=sys.stdout):\n",
    "    file = tar.extractfile(spec)\n",
    "    \n",
    "    if file is not None:\n",
    "        try:\n",
    "            contents = json.load(file)\n",
    "            \n",
    "            specs_names.append(contents['info']['title'])\n",
    "            specs_versions.append(contents['info']['version'] if not contents['info']['version'].startswith('v') else contents['info']['version'][1:])\n",
    "            specs.append(' '.join(re.findall(nl_tags, str(contents))))\n",
    "        except json.JSONDecodeError:\n",
    "            continue"
   ],
   "metadata": {
    "collapsed": false
   },
   "id": "666bb89fcbea3db8"
  },
  {
   "cell_type": "code",
   "execution_count": null,
   "outputs": [],
   "source": [
    "print('Downloading pre-trained embeddings from tensorflow hub...')\n",
    "tf.disable_eager_execution()\n",
    "embed = hub.Module('../out/models/universal-sentence-encoder')\n",
    "text_ph = tf.placeholder(tf.string)\n",
    "embeddings = embed(text_ph)\n",
    "print('Done.')"
   ],
   "metadata": {
    "collapsed": false
   },
   "id": "750a8c5df1cd7ef0"
  },
  {
   "cell_type": "code",
   "execution_count": null,
   "outputs": [],
   "source": [
    "print('Creating tensorflow session...')\n",
    "config = tf.ConfigProto()\n",
    "config.gpu_options.per_process_gpu_memory_fraction = 0.5\n",
    "session = tf.Session(config=config)\n",
    "session.run(tf.global_variables_initializer())\n",
    "session.run(tf.tables_initializer())\n",
    "print('Done.')"
   ],
   "metadata": {
    "collapsed": false
   },
   "id": "79c1bfc519f5bf41"
  },
  {
   "cell_type": "code",
   "execution_count": null,
   "outputs": [],
   "source": [
    "es.indices.create(\n",
    "    index='oa-specifications',\n",
    "    body={\n",
    "        'mappings': {\n",
    "            'properties': {\n",
    "                \"document_vector\": {\n",
    "                    \"type\": \"dense_vector\",\n",
    "                    \"dims\": 512\n",
    "                },              \n",
    "                \"name\" : {\n",
    "                    \"type\" : \"keyword\"\n",
    "                },\n",
    "                \"version\" : {\n",
    "                    \"type\" : \"keyword\"\n",
    "                }\n",
    "            }\n",
    "        }\n",
    "    }\n",
    ")\n",
    "\n",
    "for ind in tqdm(range(len(specs))):\n",
    "    es.index(\n",
    "        index='oa-specifications',\n",
    "        body={\n",
    "            'name': specs_names[ind],\n",
    "            'version': specs_versions[ind],\n",
    "            'document_vector': session.run(embeddings, feed_dict={text_ph: [specs[ind]]}).tolist()[0]\n",
    "        }\n",
    "    )"
   ],
   "metadata": {
    "collapsed": false,
    "ExecuteTime": {
     "start_time": "2023-11-13T01:05:38.131726Z"
    }
   },
   "id": "5df35510d5a812c5"
  },
  {
   "cell_type": "code",
   "execution_count": 44,
   "outputs": [],
   "source": [
    "query = 'weather forecast by city'\n",
    "\n",
    "knn_query = {\n",
    "    'knn': {\n",
    "        'field': 'document_vector',\n",
    "        'query_vector': session.run(embeddings, feed_dict={text_ph: [query]}).tolist()[0],\n",
    "        'k': 5,\n",
    "        'num_candidates': 3992\n",
    "    }\n",
    "}\n",
    "\n",
    "results = es.search(index='oa-specifications', body=knn_query, _source=['name', 'version'])['hits']['hits']"
   ],
   "metadata": {
    "collapsed": false,
    "ExecuteTime": {
     "end_time": "2023-11-13T10:04:23.202061Z",
     "start_time": "2023-11-13T10:04:23.175820Z"
    }
   },
   "id": "daa00fc4dd046b6e"
  },
  {
   "cell_type": "code",
   "execution_count": 45,
   "outputs": [
    {
     "name": "stdout",
     "output_type": "stream",
     "text": [
      "These are the top 10 results of the query \"weather forecast by city\":\n",
      "\n",
      "\t1. Storm Glass Marine Weather              v.1.0.1   [79%]\n",
      "\t2. Interzoid Get Weather City API          v.1.0.0   [78%]\n",
      "\t3. ODWeather                               v.1.0     [75%]\n",
      "\t4. Visual Crossing Weather API             v.4.6     [75%]\n",
      "\t5. Interzoid Get Weather By Zip Code API   v.1.0.0   [75%]\n"
     ]
    }
   ],
   "source": [
    "print(f'These are the top 10 results of the query \"{query}\":\\n')\n",
    "\n",
    "for ind, result in enumerate(results):\n",
    "    length_name = max([len(el['_source']['name']) for el in results]) + 2\n",
    "    length_version = max([len(el['_source']['version']) for el in results]) + 2\n",
    "\n",
    "    print(f'\\t{str(ind + 1) + \".\": <2} {result[\"_source\"][\"name\"]: <{length_name}} v.{result[\"_source\"][\"version\"]: <{length_version}} [{str(result[\"_score\"] * 100)[:2]}%]')"
   ],
   "metadata": {
    "collapsed": false,
    "ExecuteTime": {
     "end_time": "2023-11-13T10:04:24.941436Z",
     "start_time": "2023-11-13T10:04:24.937881Z"
    }
   },
   "id": "7714a586e10ecff7"
  }
 ],
 "metadata": {
  "kernelspec": {
   "display_name": "Python 3",
   "language": "python",
   "name": "python3"
  },
  "language_info": {
   "codemirror_mode": {
    "name": "ipython",
    "version": 2
   },
   "file_extension": ".py",
   "mimetype": "text/x-python",
   "name": "python",
   "nbconvert_exporter": "python",
   "pygments_lexer": "ipython2",
   "version": "2.7.6"
  }
 },
 "nbformat": 4,
 "nbformat_minor": 5
}
