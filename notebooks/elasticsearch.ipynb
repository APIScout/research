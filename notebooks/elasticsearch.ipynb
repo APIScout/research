{
 "cells": [
  {
   "cell_type": "code",
   "execution_count": 2,
   "id": "initial_id",
   "metadata": {
    "collapsed": true,
    "ExecuteTime": {
     "end_time": "2023-11-13T01:05:31.428398Z",
     "start_time": "2023-11-13T01:05:28.645918Z"
    }
   },
   "outputs": [],
   "source": [
    "import re\n",
    "import sys\n",
    "import json\n",
    "import tarfile\n",
    "import urllib3\n",
    "import configparser\n",
    "\n",
    "import tensorflow_hub as hub\n",
    "import tensorflow.compat.v1 as tf\n",
    "\n",
    "from tqdm import tqdm\n",
    "from gensim.models import Doc2Vec\n",
    "from elasticsearch import Elasticsearch"
   ]
  },
  {
   "cell_type": "code",
   "execution_count": 3,
   "outputs": [],
   "source": [
    "urllib3.disable_warnings()\n",
    "\n",
    "config = configparser.ConfigParser()\n",
    "config.read('../server.ini');"
   ],
   "metadata": {
    "collapsed": false,
    "ExecuteTime": {
     "end_time": "2023-11-13T01:05:31.432672Z",
     "start_time": "2023-11-13T01:05:31.429121Z"
    }
   },
   "id": "8bee4ed33bfd4de2"
  },
  {
   "cell_type": "code",
   "execution_count": 4,
   "outputs": [
    {
     "name": "stderr",
     "output_type": "stream",
     "text": [
      "/opt/homebrew/Caskroom/miniconda/base/envs/thesis/lib/python3.10/site-packages/elasticsearch/connection/http_urllib3.py:209: UserWarning: Connecting to https://localhost:9200 using SSL with verify_certs=False is insecure.\n",
      "  warnings.warn(\n"
     ]
    }
   ],
   "source": [
    "es = Elasticsearch(\n",
    "    config['ELASTIC']['path'],\n",
    "    verify_certs=False\n",
    ")"
   ],
   "metadata": {
    "collapsed": false,
    "ExecuteTime": {
     "end_time": "2023-11-13T01:05:31.436514Z",
     "start_time": "2023-11-13T01:05:31.432793Z"
    }
   },
   "id": "a0765846ceac8b21"
  },
  {
   "cell_type": "code",
   "execution_count": 5,
   "outputs": [
    {
     "data": {
      "text/plain": "{'name': '1bb166804bb3',\n 'cluster_name': 'docker-cluster',\n 'cluster_uuid': 'm81m9H08RKigCdwIje8C6w',\n 'version': {'number': '8.11.0',\n  'build_flavor': 'default',\n  'build_type': 'docker',\n  'build_hash': 'd9ec3fa628c7b0ba3d25692e277ba26814820b20',\n  'build_date': '2023-11-04T10:04:57.184859352Z',\n  'build_snapshot': False,\n  'lucene_version': '9.8.0',\n  'minimum_wire_compatibility_version': '7.17.0',\n  'minimum_index_compatibility_version': '7.0.0'},\n 'tagline': 'You Know, for Search'}"
     },
     "execution_count": 5,
     "metadata": {},
     "output_type": "execute_result"
    }
   ],
   "source": [
    "es.info()"
   ],
   "metadata": {
    "collapsed": false,
    "ExecuteTime": {
     "end_time": "2023-11-13T01:05:31.480681Z",
     "start_time": "2023-11-13T01:05:31.436033Z"
    }
   },
   "id": "7bd73deffbc91e05"
  },
  {
   "cell_type": "code",
   "execution_count": 6,
   "outputs": [],
   "source": [
    "model = Doc2Vec.load('../out/models/word2vec.model')"
   ],
   "metadata": {
    "collapsed": false,
    "ExecuteTime": {
     "end_time": "2023-11-13T01:05:31.537636Z",
     "start_time": "2023-11-13T01:05:31.481008Z"
    }
   },
   "id": "e080f62b7bd50e36"
  },
  {
   "cell_type": "code",
   "execution_count": 7,
   "outputs": [
    {
     "name": "stdout",
     "output_type": "stream",
     "text": [
      " 50%|████▉     | 1983/3996 [00:05<00:05, 390.76it/s]\n"
     ]
    },
    {
     "ename": "KeyboardInterrupt",
     "evalue": "",
     "output_type": "error",
     "traceback": [
      "\u001B[0;31m---------------------------------------------------------------------------\u001B[0m",
      "\u001B[0;31mKeyboardInterrupt\u001B[0m                         Traceback (most recent call last)",
      "Cell \u001B[0;32mIn[7], line 17\u001B[0m\n\u001B[1;32m     15\u001B[0m     specs_names\u001B[38;5;241m.\u001B[39mappend(contents[\u001B[38;5;124m'\u001B[39m\u001B[38;5;124minfo\u001B[39m\u001B[38;5;124m'\u001B[39m][\u001B[38;5;124m'\u001B[39m\u001B[38;5;124mtitle\u001B[39m\u001B[38;5;124m'\u001B[39m])\n\u001B[1;32m     16\u001B[0m     specs_versions\u001B[38;5;241m.\u001B[39mappend(contents[\u001B[38;5;124m'\u001B[39m\u001B[38;5;124minfo\u001B[39m\u001B[38;5;124m'\u001B[39m][\u001B[38;5;124m'\u001B[39m\u001B[38;5;124mversion\u001B[39m\u001B[38;5;124m'\u001B[39m] \u001B[38;5;28;01mif\u001B[39;00m \u001B[38;5;129;01mnot\u001B[39;00m contents[\u001B[38;5;124m'\u001B[39m\u001B[38;5;124minfo\u001B[39m\u001B[38;5;124m'\u001B[39m][\u001B[38;5;124m'\u001B[39m\u001B[38;5;124mversion\u001B[39m\u001B[38;5;124m'\u001B[39m]\u001B[38;5;241m.\u001B[39mstartswith(\u001B[38;5;124m'\u001B[39m\u001B[38;5;124mv\u001B[39m\u001B[38;5;124m'\u001B[39m) \u001B[38;5;28;01melse\u001B[39;00m contents[\u001B[38;5;124m'\u001B[39m\u001B[38;5;124minfo\u001B[39m\u001B[38;5;124m'\u001B[39m][\u001B[38;5;124m'\u001B[39m\u001B[38;5;124mversion\u001B[39m\u001B[38;5;124m'\u001B[39m][\u001B[38;5;241m1\u001B[39m:])\n\u001B[0;32m---> 17\u001B[0m     specs\u001B[38;5;241m.\u001B[39mappend(\u001B[38;5;124m'\u001B[39m\u001B[38;5;124m \u001B[39m\u001B[38;5;124m'\u001B[39m\u001B[38;5;241m.\u001B[39mjoin(re\u001B[38;5;241m.\u001B[39mfindall(nl_tags, \u001B[38;5;28;43mstr\u001B[39;49m\u001B[43m(\u001B[49m\u001B[43mcontents\u001B[49m\u001B[43m)\u001B[49m)))\n\u001B[1;32m     18\u001B[0m \u001B[38;5;28;01mexcept\u001B[39;00m json\u001B[38;5;241m.\u001B[39mJSONDecodeError:\n\u001B[1;32m     19\u001B[0m     \u001B[38;5;28;01mcontinue\u001B[39;00m\n",
      "\u001B[0;31mKeyboardInterrupt\u001B[0m: "
     ]
    }
   ],
   "source": [
    "specs = []\n",
    "specs_names = []\n",
    "specs_versions = []\n",
    "\n",
    "tar = tarfile.open('../data/data.tar.gz', 'r:gz')\n",
    "nl_tags = r'(?:\\'|\\\")(?:description|name|title|summary)(?:\\'|\\\"):\\s(?:\\'|\\\")([^\\'\\\"]+)(?:\\'|\\\")'\n",
    "\n",
    "for spec in tqdm(tar.getmembers(), file=sys.stdout):\n",
    "    file = tar.extractfile(spec)\n",
    "    \n",
    "    if file is not None:\n",
    "        try:\n",
    "            contents = json.load(file)\n",
    "            \n",
    "            specs_names.append(contents['info']['title'])\n",
    "            specs_versions.append(contents['info']['version'] if not contents['info']['version'].startswith('v') else contents['info']['version'][1:])\n",
    "            specs.append(' '.join(re.findall(nl_tags, str(contents))))\n",
    "        except json.JSONDecodeError:\n",
    "            continue"
   ],
   "metadata": {
    "collapsed": false,
    "ExecuteTime": {
     "end_time": "2023-11-13T01:05:38.128508Z",
     "start_time": "2023-11-13T01:05:31.539874Z"
    }
   },
   "id": "666bb89fcbea3db8"
  },
  {
   "cell_type": "code",
   "execution_count": 8,
   "outputs": [
    {
     "name": "stdout",
     "output_type": "stream",
     "text": [
      "Downloading pre-trained embeddings from tensorflow hub...\n",
      "INFO:tensorflow:Saver not created because there are no variables in the graph to restore\n"
     ]
    },
    {
     "name": "stderr",
     "output_type": "stream",
     "text": [
      "INFO:tensorflow:Saver not created because there are no variables in the graph to restore\n"
     ]
    },
    {
     "name": "stdout",
     "output_type": "stream",
     "text": [
      "Done.\n"
     ]
    }
   ],
   "source": [
    "print('Downloading pre-trained embeddings from tensorflow hub...')\n",
    "tf.disable_eager_execution()\n",
    "embed = hub.Module('https://tfhub.dev/google/universal-sentence-encoder/2')\n",
    "text_ph = tf.placeholder(tf.string)\n",
    "embeddings = embed(text_ph)\n",
    "print('Done.')"
   ],
   "metadata": {
    "collapsed": false,
    "ExecuteTime": {
     "end_time": "2023-11-13T01:05:45.336512Z",
     "start_time": "2023-11-13T01:05:44.556211Z"
    }
   },
   "id": "750a8c5df1cd7ef0"
  },
  {
   "cell_type": "code",
   "execution_count": 9,
   "outputs": [
    {
     "name": "stdout",
     "output_type": "stream",
     "text": [
      "Creating tensorflow session...\n"
     ]
    },
    {
     "name": "stderr",
     "output_type": "stream",
     "text": [
      "2023-11-13 02:05:46.255951: I tensorflow/compiler/mlir/mlir_graph_optimization_pass.cc:382] MLIR V1 optimization pass is not enabled\n",
      "2023-11-13 02:05:47.160057: W tensorflow/c/c_api.cc:305] Operation '{name:'module/string_to_index_11/hash_table/table_init' id:3918 op device:{requested: '', assigned: ''} def:{{{node module/string_to_index_11/hash_table/table_init}} = InitializeTableV2[Tkey=DT_STRING, Tval=DT_INT64, _has_manual_control_dependencies=true](module/string_to_index_11/hash_table, module/Embeddings_en_words, module/string_to_index_11/ToInt64)}}' was changed by setting attribute after it was run by a session. This mutation will have no effect, and will trigger an error in the future. Either don't modify nodes after running them or create a new session.\n"
     ]
    },
    {
     "name": "stdout",
     "output_type": "stream",
     "text": [
      "Done.\n"
     ]
    }
   ],
   "source": [
    "print('Creating tensorflow session...')\n",
    "config = tf.ConfigProto()\n",
    "config.gpu_options.per_process_gpu_memory_fraction = 0.5\n",
    "session = tf.Session(config=config)\n",
    "session.run(tf.global_variables_initializer())\n",
    "session.run(tf.tables_initializer())\n",
    "print('Done.')"
   ],
   "metadata": {
    "collapsed": false,
    "ExecuteTime": {
     "end_time": "2023-11-13T01:05:48.944624Z",
     "start_time": "2023-11-13T01:05:46.148619Z"
    }
   },
   "id": "79c1bfc519f5bf41"
  },
  {
   "cell_type": "code",
   "execution_count": null,
   "outputs": [],
   "source": [
    "es.indices.create(\n",
    "    index='oa-specifications',\n",
    "    body={\n",
    "        'mappings': {\n",
    "            'properties': {\n",
    "                \"document_vector\": {\n",
    "                    \"type\": \"dense_vector\",\n",
    "                    \"dims\": 512\n",
    "                },              \n",
    "                \"name\" : {\n",
    "                    \"type\" : \"keyword\"\n",
    "                },\n",
    "                \"version\" : {\n",
    "                    \"type\" : \"keyword\"\n",
    "                }\n",
    "            }\n",
    "        }\n",
    "    }\n",
    ")\n",
    "\n",
    "for ind in tqdm(range(len(specs))):\n",
    "    es.index(\n",
    "        index='oa-specifications',\n",
    "        body={\n",
    "            'name': specs_names[ind],\n",
    "            'version': specs_versions[ind],\n",
    "            'document_vector': session.run(embeddings, feed_dict={text_ph: [specs[ind]]}).tolist()[0]\n",
    "        }\n",
    "    )"
   ],
   "metadata": {
    "collapsed": false,
    "ExecuteTime": {
     "start_time": "2023-11-13T01:05:38.131726Z"
    }
   },
   "id": "5df35510d5a812c5"
  },
  {
   "cell_type": "code",
   "execution_count": 44,
   "outputs": [],
   "source": [
    "query = 'weather forecast by city'\n",
    "\n",
    "knn_query = {\n",
    "    'knn': {\n",
    "        'field': 'document_vector',\n",
    "        'query_vector': session.run(embeddings, feed_dict={text_ph: [query]}).tolist()[0],\n",
    "        'k': 5,\n",
    "        'num_candidates': 3992\n",
    "    }\n",
    "}\n",
    "\n",
    "results = es.search(index='oa-specifications', body=knn_query, _source=['name', 'version'])['hits']['hits']"
   ],
   "metadata": {
    "collapsed": false,
    "ExecuteTime": {
     "end_time": "2023-11-13T10:04:23.202061Z",
     "start_time": "2023-11-13T10:04:23.175820Z"
    }
   },
   "id": "daa00fc4dd046b6e"
  },
  {
   "cell_type": "code",
   "execution_count": 45,
   "outputs": [
    {
     "name": "stdout",
     "output_type": "stream",
     "text": [
      "These are the top 10 results of the query \"weather forecast by city\":\n",
      "\n",
      "\t1. Storm Glass Marine Weather              v.1.0.1   [79%]\n",
      "\t2. Interzoid Get Weather City API          v.1.0.0   [78%]\n",
      "\t3. ODWeather                               v.1.0     [75%]\n",
      "\t4. Visual Crossing Weather API             v.4.6     [75%]\n",
      "\t5. Interzoid Get Weather By Zip Code API   v.1.0.0   [75%]\n"
     ]
    }
   ],
   "source": [
    "print(f'These are the top 10 results of the query \"{query}\":\\n')\n",
    "\n",
    "for ind, result in enumerate(results):\n",
    "    length_name = max([len(el['_source']['name']) for el in results]) + 2\n",
    "    length_version = max([len(el['_source']['version']) for el in results]) + 2\n",
    "\n",
    "    print(f'\\t{str(ind + 1) + \".\": <2} {result[\"_source\"][\"name\"]: <{length_name}} v.{result[\"_source\"][\"version\"]: <{length_version}} [{str(result[\"_score\"] * 100)[:2]}%]')"
   ],
   "metadata": {
    "collapsed": false,
    "ExecuteTime": {
     "end_time": "2023-11-13T10:04:24.941436Z",
     "start_time": "2023-11-13T10:04:24.937881Z"
    }
   },
   "id": "7714a586e10ecff7"
  }
 ],
 "metadata": {
  "kernelspec": {
   "display_name": "Python 3",
   "language": "python",
   "name": "python3"
  },
  "language_info": {
   "codemirror_mode": {
    "name": "ipython",
    "version": 2
   },
   "file_extension": ".py",
   "mimetype": "text/x-python",
   "name": "python",
   "nbconvert_exporter": "python",
   "pygments_lexer": "ipython2",
   "version": "2.7.6"
  }
 },
 "nbformat": 4,
 "nbformat_minor": 5
}
