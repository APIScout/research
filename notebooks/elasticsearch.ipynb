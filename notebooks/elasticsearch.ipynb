{
 "cells": [
  {
   "cell_type": "code",
   "execution_count": 3,
   "id": "initial_id",
   "metadata": {
    "collapsed": true,
    "ExecuteTime": {
     "end_time": "2023-11-30T14:44:24.852162Z",
     "start_time": "2023-11-30T14:44:24.850615Z"
    }
   },
   "outputs": [],
   "source": [
    "import re\n",
    "import sys\n",
    "import json\n",
    "import tarfile\n",
    "import urllib3\n",
    "import configparser\n",
    "\n",
    "import tensorflow_hub as hub\n",
    "import tensorflow.compat.v1 as tf\n",
    "\n",
    "from tqdm import tqdm\n",
    "from elasticsearch import Elasticsearch"
   ]
  },
  {
   "cell_type": "code",
   "execution_count": 4,
   "outputs": [],
   "source": [
    "urllib3.disable_warnings()\n",
    "\n",
    "config = configparser.ConfigParser()\n",
    "config.read('../server.ini');"
   ],
   "metadata": {
    "collapsed": false,
    "ExecuteTime": {
     "end_time": "2023-11-30T14:44:24.859504Z",
     "start_time": "2023-11-30T14:44:24.852405Z"
    }
   },
   "id": "8bee4ed33bfd4de2"
  },
  {
   "cell_type": "code",
   "execution_count": null,
   "outputs": [],
   "source": [
    "es = Elasticsearch(\n",
    "    config['ELASTIC']['path'],\n",
    "    verify_certs=False\n",
    ")"
   ],
   "metadata": {
    "collapsed": false
   },
   "id": "a0765846ceac8b21"
  },
  {
   "cell_type": "code",
   "execution_count": 6,
   "outputs": [
    {
     "data": {
      "text/plain": "{'name': '1bb166804bb3',\n 'cluster_name': 'docker-cluster',\n 'cluster_uuid': 'm81m9H08RKigCdwIje8C6w',\n 'version': {'number': '8.11.0',\n  'build_flavor': 'default',\n  'build_type': 'docker',\n  'build_hash': 'd9ec3fa628c7b0ba3d25692e277ba26814820b20',\n  'build_date': '2023-11-04T10:04:57.184859352Z',\n  'build_snapshot': False,\n  'lucene_version': '9.8.0',\n  'minimum_wire_compatibility_version': '7.17.0',\n  'minimum_index_compatibility_version': '7.0.0'},\n 'tagline': 'You Know, for Search'}"
     },
     "execution_count": 6,
     "metadata": {},
     "output_type": "execute_result"
    }
   ],
   "source": [
    "es.info()"
   ],
   "metadata": {
    "collapsed": false,
    "ExecuteTime": {
     "end_time": "2023-11-30T14:44:24.950930Z",
     "start_time": "2023-11-30T14:44:24.863451Z"
    }
   },
   "id": "7bd73deffbc91e05"
  },
  {
   "cell_type": "code",
   "execution_count": 12,
   "outputs": [
    {
     "name": "stdout",
     "output_type": "stream",
     "text": [
      "100%|██████████| 3996/3996 [00:13<00:00, 304.24it/s]\n"
     ]
    }
   ],
   "source": [
    "specs = []\n",
    "specs_names = []\n",
    "specs_versions = []\n",
    "specs_categories = []\n",
    "\n",
    "tar = tarfile.open('../data/data.tar.gz', 'r:gz')\n",
    "nl_tags = r'(?:\\'|\\\")(?:description|name|title|summary)(?:\\'|\\\"):\\s(?:\\'|\\\")([^\\'\\\"]+)(?:\\'|\\\")'\n",
    "\n",
    "for spec in tqdm(tar.getmembers(), file=sys.stdout):\n",
    "    file = tar.extractfile(spec)\n",
    "    \n",
    "    if file is not None:\n",
    "        try:\n",
    "            contents = json.load(file)\n",
    "            \n",
    "            specs_names.append(contents['info']['title'])\n",
    "            specs_versions.append(contents['info']['version'] if not contents['info']['version'].startswith('v') else contents['info']['version'][1:])\n",
    "            specs.append(' '.join(re.findall(nl_tags, str(contents))))\n",
    "            \n",
    "            try:\n",
    "                specs_categories.append(contents['info']['x-apisguru-categories'][0])\n",
    "            except KeyError:\n",
    "                specs_categories.append('none')\n",
    "        except json.JSONDecodeError:\n",
    "            continue"
   ],
   "metadata": {
    "collapsed": false,
    "ExecuteTime": {
     "end_time": "2023-11-30T14:49:17.647908Z",
     "start_time": "2023-11-30T14:49:03.183333Z"
    }
   },
   "id": "666bb89fcbea3db8"
  },
  {
   "cell_type": "code",
   "execution_count": null,
   "outputs": [],
   "source": [
    "print('Downloading pre-trained embeddings from tensorflow hub...')\n",
    "tf.disable_eager_execution()\n",
    "embed = hub.Module('../out/models/universal-sentence-encoder')\n",
    "text_ph = tf.placeholder(tf.string)\n",
    "embeddings = embed(text_ph)\n",
    "print('Done.')"
   ],
   "metadata": {
    "collapsed": false
   },
   "id": "750a8c5df1cd7ef0"
  },
  {
   "cell_type": "code",
   "execution_count": null,
   "outputs": [],
   "source": [
    "print('Creating tensorflow session...')\n",
    "config = tf.ConfigProto()\n",
    "config.gpu_options.per_process_gpu_memory_fraction = 0.5\n",
    "session = tf.Session(config=config)\n",
    "session.run(tf.global_variables_initializer())\n",
    "session.run(tf.tables_initializer())\n",
    "print('Done.')"
   ],
   "metadata": {
    "collapsed": false
   },
   "id": "79c1bfc519f5bf41"
  },
  {
   "cell_type": "code",
   "execution_count": 16,
   "outputs": [
    {
     "name": "stderr",
     "output_type": "stream",
     "text": [
      "100%|██████████| 3992/3992 [00:38<00:00, 104.07it/s]\n"
     ]
    }
   ],
   "source": [
    "es.indices.create(\n",
    "    index='oa-specifications',\n",
    "    body={\n",
    "        'mappings': {\n",
    "            'properties': {\n",
    "                \"document_vector\": {\n",
    "                    \"type\": \"dense_vector\",\n",
    "                    \"dims\": 512\n",
    "                },              \n",
    "                \"name\" : {\n",
    "                    \"type\" : \"keyword\"\n",
    "                },\n",
    "                \"version\" : {\n",
    "                    \"type\" : \"keyword\"\n",
    "                },\n",
    "                \"category\" : {\n",
    "                    \"type\" : \"keyword\"\n",
    "                }\n",
    "            }\n",
    "        }\n",
    "    }\n",
    ")\n",
    "\n",
    "for ind in tqdm(range(len(specs))):\n",
    "    es.index(\n",
    "        index='oa-specifications',\n",
    "        body={\n",
    "            'name': specs_names[ind],\n",
    "            'version': specs_versions[ind],\n",
    "            'category': specs_categories[ind],\n",
    "            'document_vector': session.run(embeddings, feed_dict={text_ph: [specs[ind]]}).tolist()[0]\n",
    "        }\n",
    "    )"
   ],
   "metadata": {
    "collapsed": false,
    "ExecuteTime": {
     "end_time": "2023-11-30T14:50:52.944776Z",
     "start_time": "2023-11-30T14:50:14.483484Z"
    }
   },
   "id": "5df35510d5a812c5"
  },
  {
   "cell_type": "code",
   "execution_count": 17,
   "outputs": [],
   "source": [
    "query = 'driving license registration service'\n",
    "\n",
    "knn_query = {\n",
    "    'knn': {\n",
    "        'field': 'document_vector',\n",
    "        'query_vector': session.run(embeddings, feed_dict={text_ph: [query]}).tolist()[0],\n",
    "        'k': 5,\n",
    "        'num_candidates': 3992\n",
    "    }\n",
    "}\n",
    "\n",
    "results = es.search(index='oa-specifications', body=knn_query, _source=['name', 'version'])['hits']['hits']"
   ],
   "metadata": {
    "collapsed": false,
    "ExecuteTime": {
     "end_time": "2023-11-30T14:50:59.843979Z",
     "start_time": "2023-11-30T14:50:59.746706Z"
    }
   },
   "id": "daa00fc4dd046b6e"
  },
  {
   "cell_type": "code",
   "execution_count": 18,
   "outputs": [
    {
     "name": "stdout",
     "output_type": "stream",
     "text": [
      "These are the top 5 results of the query \"driving license registration service\":\n",
      "\n",
      "\t1. Vehicle Enquiry API                v.1.1.0   [81%]\n",
      "\t2. Car Registration API               v.1.0.0   [81%]\n",
      "\t3. Motor Vehicle Department, Odisha   v.3.0.0   [78%]\n",
      "\t4. Transport Department, Tamil Nadu   v.3.0.0   [78%]\n",
      "\t5. Transport Department, Haryana      v.3.0.0   [78%]\n"
     ]
    }
   ],
   "source": [
    "print(f'These are the top 5 results of the query \"{query}\":\\n')\n",
    "\n",
    "for ind, result in enumerate(results):\n",
    "    length_name = max([len(el['_source']['name']) for el in results]) + 2\n",
    "    length_version = max([len(el['_source']['version']) for el in results]) + 2\n",
    "\n",
    "    print(f'\\t{str(ind + 1) + \".\": <2} {result[\"_source\"][\"name\"]: <{length_name}} v.{result[\"_source\"][\"version\"]: <{length_version}} [{str(result[\"_score\"] * 100)[:2]}%]')"
   ],
   "metadata": {
    "collapsed": false,
    "ExecuteTime": {
     "end_time": "2023-11-30T14:51:01.213750Z",
     "start_time": "2023-11-30T14:51:01.205475Z"
    }
   },
   "id": "7714a586e10ecff7"
  }
 ],
 "metadata": {
  "kernelspec": {
   "display_name": "Python 3",
   "language": "python",
   "name": "python3"
  },
  "language_info": {
   "codemirror_mode": {
    "name": "ipython",
    "version": 2
   },
   "file_extension": ".py",
   "mimetype": "text/x-python",
   "name": "python",
   "nbconvert_exporter": "python",
   "pygments_lexer": "ipython2",
   "version": "2.7.6"
  }
 },
 "nbformat": 4,
 "nbformat_minor": 5
}
