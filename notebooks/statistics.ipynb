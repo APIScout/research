{
 "cells": [
  {
   "cell_type": "code",
   "execution_count": null,
   "id": "initial_id",
   "metadata": {
    "collapsed": true,
    "is_executing": true
   },
   "outputs": [],
   "source": [
    "import re\n",
    "import pandas as pd\n",
    "\n",
    "from pymongo import MongoClient"
   ]
  },
  {
   "cell_type": "code",
   "execution_count": 4,
   "outputs": [],
   "source": [
    "# MongoDB connection setup\n",
    "CONNECTION_STRING='localhost:27017'\n",
    "\n",
    "client = MongoClient(CONNECTION_STRING)\n",
    "swagger = client['swagger']['apis']"
   ],
   "metadata": {
    "collapsed": false,
    "ExecuteTime": {
     "end_time": "2023-10-26T18:43:31.537145Z",
     "start_time": "2023-10-26T18:43:31.530024Z"
    }
   },
   "id": "3936b76e936ce986"
  },
  {
   "cell_type": "markdown",
   "source": [
    "---\n",
    "\n",
    "## Versions\n",
    "\n",
    "Here we analyze how the APIs have been versioned. In particular, we take a look at the number of APIs with versions and without. Moreover, for the APIs with a versions, we check if that version is semantically correct (to do so we use the semantic versioning regex taken from [semver](https://semver.org/spec/v2.0.0.html#is-there-a-suggested-regular-expression-regex-to-check-a-semver-string))."
   ],
   "metadata": {
    "collapsed": false
   },
   "id": "86bef7fca18d1e2b"
  },
  {
   "cell_type": "code",
   "execution_count": 5,
   "outputs": [],
   "source": [
    "versions = pd.DataFrame(list(swagger.aggregate(\n",
    "    [{ '$group': { '_id': '$_API_spec.info.version', 'count': { '$sum': 1 } } }]\n",
    ")))"
   ],
   "metadata": {
    "collapsed": false,
    "ExecuteTime": {
     "end_time": "2023-10-26T18:44:06.603504Z",
     "start_time": "2023-10-26T18:43:31.537603Z"
    }
   },
   "id": "db69bea860d88b1f"
  },
  {
   "cell_type": "code",
   "execution_count": null,
   "outputs": [],
   "source": [
    "# You can use python-semver package to check if a version is following semver\n",
    "# https://python-semver.readthedocs.io/en/2.9.0/usage.html"
   ],
   "metadata": {
    "collapsed": false
   },
   "id": "b70409c060b951c9"
  },
  {
   "cell_type": "code",
   "execution_count": null,
   "outputs": [],
   "source": [
    "semantic_versioning_regex = r'^(?P<major>0|[1-9]\\d*)\\.(?P<minor>0|[1-9]\\d*)\\.(?P<patch>0|[1-9]\\d*)(?:-(?P<prerelease>(?:0|[1-9]\\d*|\\d*[a-zA-Z-][0-9a-zA-Z-]*)(?:\\.(?:0|[1-9]\\d*|\\d*[a-zA-Z-][0-9a-zA-Z-]*))*))?(?:\\+(?P<buildmetadata>[0-9a-zA-Z-]+(?:\\.[0-9a-zA-Z-]+)*))?$'\n",
    "\n",
    "no_version = versions[(versions['_id'].isna()) | (versions['_id'] == 'None') | (versions['_id'] == 'unversioned')]['count'].sum()\n",
    "version = versions[(versions['_id'].notna()) & (versions['_id'] != 'None') & (versions['_id'] != 'unversioned')]['count'].sum()\n",
    "versioned_correctly = versions[versions['_id'].str.contains(semantic_versioning_regex, regex=True, na=False)]['count'].sum()\n",
    "total_length = versions['count'].sum()"
   ],
   "metadata": {
    "collapsed": false
   },
   "id": "654501edff03dce0"
  },
  {
   "cell_type": "code",
   "execution_count": 7,
   "outputs": [
    {
     "name": "stdout",
     "output_type": "stream",
     "text": [
      "With versioning: 356933 [82.5%]\n",
      "Without versioning: 75332 [17.4%]\n",
      "\n",
      "With semantic versioning:\n",
      "\tW.r.t. versioned: 267672 [74.9%]\n",
      "\tW.r.t. total: 267672 [61.9%]\n"
     ]
    }
   ],
   "source": [
    "print(f'With versioning: {version} [{str(version / total_length * 100)[:4]}%]')\n",
    "print(f'Without versioning: {no_version} [{str(no_version / total_length * 100)[:4]}%]\\n')\n",
    "print(f'With semantic versioning:')\n",
    "print(f'\\tW.r.t. versioned: {versioned_correctly} [{str(versioned_correctly * 100 / version)[:4]}%]')\n",
    "print(f'\\tW.r.t. total: {versioned_correctly} [{str(versioned_correctly / total_length * 100)[:4]}%]')"
   ],
   "metadata": {
    "collapsed": false,
    "ExecuteTime": {
     "end_time": "2023-10-26T18:44:06.772744Z",
     "start_time": "2023-10-26T18:44:06.623601Z"
    }
   },
   "id": "c4f5665942f8172e"
  },
  {
   "cell_type": "markdown",
   "source": [
    "---\n",
    "\n",
    "## Schemes\n",
    "\n",
    "Here we analyze how many APIs use one or both schemes (`http`, `https`)."
   ],
   "metadata": {
    "collapsed": false
   },
   "id": "31be2666b865b299"
  },
  {
   "cell_type": "code",
   "execution_count": 17,
   "outputs": [],
   "source": [
    "schemes = pd.DataFrame(list(swagger.find({}, { 'name': 1, '_API_spec.schemes': 1 })))\n",
    "\n",
    "schemes['_API_spec'] = schemes['_API_spec'].apply(lambda el: '' if str(el) == '{}' else ' '.join(re.sub(r'[^\\w\\s]', '', str(el)).split()[1:]))\n",
    "schemes['http'] = schemes['_API_spec'].str.contains('http')\n",
    "schemes['https'] = schemes['_API_spec'].str.contains('https')"
   ],
   "metadata": {
    "collapsed": false,
    "ExecuteTime": {
     "end_time": "2023-10-26T19:01:51.575886Z",
     "start_time": "2023-10-26T19:01:24.497019Z"
    }
   },
   "id": "dcbec6f206142b53"
  },
  {
   "cell_type": "code",
   "execution_count": 41,
   "outputs": [],
   "source": [
    "has_both = schemes[(schemes['http'] == True) & (schemes['https'] == True)]['_id'].count()\n",
    "has_none = schemes[(schemes['http'] == False) & (schemes['https'] == False)]['_id'].count()\n",
    "only_http = schemes[(schemes['http'] == True) & (schemes['https'] == False)]['_id'].count()\n",
    "\n",
    "total_length = schemes['_id'].count()"
   ],
   "metadata": {
    "collapsed": false,
    "ExecuteTime": {
     "end_time": "2023-10-26T19:23:18.991772Z",
     "start_time": "2023-10-26T19:23:18.954480Z"
    }
   },
   "id": "524fd99a3bca5321"
  },
  {
   "cell_type": "code",
   "execution_count": 47,
   "outputs": [
    {
     "name": "stdout",
     "output_type": "stream",
     "text": [
      "Only `http` schema: 41730 [9.6%]\n",
      "Both `http` and `https` schemes: 4367 [1.0%]\n",
      "No schema: 386168 [89.3%]\n"
     ]
    }
   ],
   "source": [
    "print(f'Only `http` schema: {only_http} [{str(only_http / total_length * 100)[:3]}%]')\n",
    "print(f'Both `http` and `https` schemes: {has_both} [{str(has_both / total_length * 100)[:3]}%]')\n",
    "print(f'No schema: {has_none} [{str(has_none / total_length * 100)[:4]}%]')"
   ],
   "metadata": {
    "collapsed": false,
    "ExecuteTime": {
     "end_time": "2023-10-26T19:31:37.004095Z",
     "start_time": "2023-10-26T19:31:36.998179Z"
    }
   },
   "id": "c707f977406f0a03"
  },
  {
   "cell_type": "code",
   "execution_count": null,
   "outputs": [],
   "source": [
    "# swagger.find({}, {'test': { '$size': { '$objectToArray': '$_API_spec.paths' } }})"
   ],
   "metadata": {
    "collapsed": false
   },
   "id": "ee84597707011069"
  }
 ],
 "metadata": {
  "kernelspec": {
   "display_name": "Python 3",
   "language": "python",
   "name": "python3"
  },
  "language_info": {
   "codemirror_mode": {
    "name": "ipython",
    "version": 2
   },
   "file_extension": ".py",
   "mimetype": "text/x-python",
   "name": "python",
   "nbconvert_exporter": "python",
   "pygments_lexer": "ipython2",
   "version": "2.7.6"
  }
 },
 "nbformat": 4,
 "nbformat_minor": 5
}
