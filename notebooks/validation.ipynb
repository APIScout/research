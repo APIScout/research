{
 "cells": [
  {
   "cell_type": "code",
   "execution_count": 163,
   "id": "initial_id",
   "metadata": {
    "collapsed": true,
    "ExecuteTime": {
     "end_time": "2023-11-13T09:16:51.519399Z",
     "start_time": "2023-11-13T09:16:51.515283Z"
    }
   },
   "outputs": [],
   "source": [
    "import urllib3\n",
    "import configparser\n",
    "\n",
    "import numpy as np\n",
    "import tensorflow_hub as hub\n",
    "import matplotlib.pyplot as plt\n",
    "import tensorflow.compat.v1 as tf\n",
    "\n",
    "from functools import reduce\n",
    "from sklearn.manifold import TSNE\n",
    "from elasticsearch import Elasticsearch"
   ]
  },
  {
   "cell_type": "code",
   "execution_count": 37,
   "outputs": [],
   "source": [
    "urllib3.disable_warnings()\n",
    "\n",
    "config = configparser.ConfigParser()\n",
    "config.read('../server.ini');"
   ],
   "metadata": {
    "collapsed": false,
    "ExecuteTime": {
     "end_time": "2023-11-13T00:25:07.262953Z",
     "start_time": "2023-11-13T00:25:07.259219Z"
    }
   },
   "id": "60c50ebd58c05956"
  },
  {
   "cell_type": "code",
   "execution_count": null,
   "outputs": [],
   "source": [
    "es = Elasticsearch(\n",
    "    config['ELASTIC']['path'],\n",
    "    verify_certs=False\n",
    ")"
   ],
   "metadata": {
    "collapsed": false
   },
   "id": "f82501d0689d86d3"
  },
  {
   "cell_type": "code",
   "execution_count": 39,
   "outputs": [
    {
     "data": {
      "text/plain": "{'name': '1bb166804bb3',\n 'cluster_name': 'docker-cluster',\n 'cluster_uuid': 'm81m9H08RKigCdwIje8C6w',\n 'version': {'number': '8.11.0',\n  'build_flavor': 'default',\n  'build_type': 'docker',\n  'build_hash': 'd9ec3fa628c7b0ba3d25692e277ba26814820b20',\n  'build_date': '2023-11-04T10:04:57.184859352Z',\n  'build_snapshot': False,\n  'lucene_version': '9.8.0',\n  'minimum_wire_compatibility_version': '7.17.0',\n  'minimum_index_compatibility_version': '7.0.0'},\n 'tagline': 'You Know, for Search'}"
     },
     "execution_count": 39,
     "metadata": {},
     "output_type": "execute_result"
    }
   ],
   "source": [
    "es.info()"
   ],
   "metadata": {
    "collapsed": false,
    "ExecuteTime": {
     "end_time": "2023-11-13T00:25:07.310976Z",
     "start_time": "2023-11-13T00:25:07.265317Z"
    }
   },
   "id": "79853d2dde40eccb"
  },
  {
   "cell_type": "code",
   "execution_count": null,
   "outputs": [],
   "source": [
    "print('Downloading pre-trained embeddings from tensorflow hub...')\n",
    "tf.disable_eager_execution()\n",
    "embed = hub.Module('https://tfhub.dev/google/universal-sentence-encoder/2')\n",
    "text_ph = tf.placeholder(tf.string)\n",
    "embeddings = embed(text_ph)\n",
    "print('Done.')"
   ],
   "metadata": {
    "collapsed": false
   },
   "id": "21fe6c1f94e223eb"
  },
  {
   "cell_type": "code",
   "execution_count": null,
   "outputs": [],
   "source": [
    "print('Creating tensorflow session...')\n",
    "config = tf.ConfigProto()\n",
    "config.gpu_options.per_process_gpu_memory_fraction = 0.5\n",
    "session = tf.Session(config=config)\n",
    "session.run(tf.global_variables_initializer())\n",
    "session.run(tf.tables_initializer())\n",
    "print('Done.')"
   ],
   "metadata": {
    "collapsed": false
   },
   "id": "1e42003dec17d4f2"
  },
  {
   "cell_type": "code",
   "execution_count": 165,
   "outputs": [],
   "source": [
    "def parse_ground_truth():\n",
    "    grounds = []\n",
    "    \n",
    "    with open('../data/ground.txt') as file:\n",
    "        lines = [line for line in file.read().split('\\n') if line != '']\n",
    "        \n",
    "        for ind in range(0, len(lines)-1, 2):\n",
    "            grounds.append((lines[ind], lines[ind+1]))\n",
    "    \n",
    "    return grounds"
   ],
   "metadata": {
    "collapsed": false,
    "ExecuteTime": {
     "end_time": "2023-11-13T09:27:16.734602Z",
     "start_time": "2023-11-13T09:27:16.729833Z"
    }
   },
   "id": "12437faaf3f84cf1"
  },
  {
   "cell_type": "code",
   "execution_count": 222,
   "outputs": [],
   "source": [
    "def get_precision(frequencies, ground_truth):\n",
    "    raw_pos = []\n",
    "    positions = []\n",
    "\n",
    "    for ind1, frequency in enumerate(frequencies):\n",
    "        for ind2, element in enumerate(frequency):\n",
    "            if ground_truth[ind1][1].strip().lower() in element.strip().lower():\n",
    "                raw_pos.append(ind2 + 1)\n",
    "                positions.append(1 / (ind2 + 1))\n",
    "                break\n",
    "        else:\n",
    "            positions.append(0)\n",
    "\n",
    "    return (\n",
    "        sum(positions) / len(positions),\n",
    "        raw_pos,\n",
    "        reduce(lambda pre, el: pre + 1 if el != 0 else pre, positions, 0),\n",
    "        len(positions)\n",
    "    )"
   ],
   "metadata": {
    "collapsed": false,
    "ExecuteTime": {
     "end_time": "2023-11-13T09:43:18.104366Z",
     "start_time": "2023-11-13T09:43:18.101143Z"
    }
   },
   "id": "cc12145a1c5e933"
  },
  {
   "cell_type": "code",
   "execution_count": 209,
   "outputs": [],
   "source": [
    "def get_recall(correct, length):\n",
    "    return correct / length"
   ],
   "metadata": {
    "collapsed": false,
    "ExecuteTime": {
     "end_time": "2023-11-13T09:38:16.240694Z",
     "start_time": "2023-11-13T09:38:16.237907Z"
    }
   },
   "id": "3be77c44d956f918"
  },
  {
   "cell_type": "code",
   "execution_count": 210,
   "outputs": [],
   "source": [
    "names = []\n",
    "vectors = []\n",
    "grounds_truths = parse_ground_truth()\n",
    "\n",
    "for ground in grounds_truths:\n",
    "    tmp = []\n",
    "    query_vector = session.run(embeddings, feed_dict={text_ph: [ground[0]]}).tolist()[0]\n",
    "    \n",
    "    knn_query = {\n",
    "        'knn': {\n",
    "            'field': 'document_vector',\n",
    "            'query_vector': query_vector,\n",
    "            'k': 5,\n",
    "            'num_candidates': 3992\n",
    "        }\n",
    "    }\n",
    "    \n",
    "    results = es.search(index='oa-specifications', body=knn_query)['hits']['hits']\n",
    "    \n",
    "    for result in results:\n",
    "        tmp.append(result['_source']['name'])\n",
    "        vectors.append(result['_source']['document_vector'])\n",
    "    \n",
    "    vectors.append(query_vector)\n",
    "    names.append(tmp)"
   ],
   "metadata": {
    "collapsed": false,
    "ExecuteTime": {
     "end_time": "2023-11-13T09:38:18.507418Z",
     "start_time": "2023-11-13T09:38:18.372387Z"
    }
   },
   "id": "ac832ee1f640b7ca"
  },
  {
   "cell_type": "code",
   "execution_count": 228,
   "outputs": [
    {
     "name": "stdout",
     "output_type": "stream",
     "text": [
      "Precision: 0.6\n",
      "Recall: 1.0\n",
      "\n",
      "Position in which ground truth was found:\n",
      "\t\"NFL v3\" was found at position #1\n",
      "\t\"AWS IoT Secure Tunneling\" was found at position #4\n",
      "\t\"Transport Department\" was found at position #4\n",
      "\t\"Text Analytics & Sentiment Analysis API | api.text2data.com\" was found at position #4\n",
      "\t\"MailboxValidator Free Email Checker\" was found at position #1\n",
      "\t\"Interzoid Country Data Standardization API\" was found at position #1\n",
      "\t\"Soccer v3 Projections\" was found at position #1\n",
      "\t\"PolicyClient\" was found at position #1\n",
      "\t\"NetworkManagementClient\" was found at position #3\n",
      "\t\"Interzoid Get Weather City API\" was found at position #2\n"
     ]
    }
   ],
   "source": [
    "prec, pos, correct_pred, preds = get_precision(names, grounds_truths)\n",
    "rec = get_recall(correct_pred, preds)\n",
    "\n",
    "print(f'Precision: {str(prec)[:3]}')\n",
    "print(f'Recall: {str(rec)[:3]}\\n')\n",
    "\n",
    "print('Position in which ground truth was found:')\n",
    "for ind, position in enumerate(pos):\n",
    "    print(f'\\t\"{grounds_truths[ind][1]}\" was found at position #{position}')"
   ],
   "metadata": {
    "collapsed": false,
    "ExecuteTime": {
     "end_time": "2023-11-13T10:14:10.319972Z",
     "start_time": "2023-11-13T10:14:10.314176Z"
    }
   },
   "id": "fa3b5e1f38a0b9bf"
  },
  {
   "cell_type": "code",
   "execution_count": 230,
   "outputs": [
    {
     "data": {
      "text/plain": "<matplotlib.legend.Legend at 0x2fa555f00>"
     },
     "execution_count": 230,
     "metadata": {},
     "output_type": "execute_result"
    },
    {
     "data": {
      "text/plain": "<Figure size 1300x800 with 1 Axes>",
      "image/png": "[encoded data removed]"
     },
     "metadata": {},
     "output_type": "display_data"
    }
   ],
   "source": [
    "colors = ['b', 'g', 'r', 'c', 'm', 'y', 'k', 'gray', 'orange', 'brown']\n",
    "queries = ['news abou...', 'aws iot s...', 'driving l...', 'sentiment...', 'email mai...', 'country d...', 'football...', 'policy a...', 'client t...', 'weather...']\n",
    "\n",
    "data = TSNE(perplexity=5, n_iter=3000).fit_transform(np.array(vectors))\n",
    "plt.figure(figsize=(13, 8))\n",
    "\n",
    "for i in range(0, 60, 6):\n",
    "    plt.scatter(data[i + 5, 0], data[i + 5, 1], marker='1', color=colors[int(i / 6)], label=queries[int(i / 6)])\n",
    "    plt.scatter(data[i:i + 5, 0], data[i:i + 5, 1], marker='o', color=colors[int(i / 6)])\n",
    "\n",
    "plt.legend()"
   ],
   "metadata": {
    "collapsed": false,
    "ExecuteTime": {
     "end_time": "2023-11-13T10:20:05.747007Z",
     "start_time": "2023-11-13T10:20:04.571420Z"
    }
   },
   "id": "c2de4dc4ad5cd430"
  }
 ],
 "metadata": {
  "kernelspec": {
   "display_name": "Python 3",
   "language": "python",
   "name": "python3"
  },
  "language_info": {
   "codemirror_mode": {
    "name": "ipython",
    "version": 2
   },
   "file_extension": ".py",
   "mimetype": "text/x-python",
   "name": "python",
   "nbconvert_exporter": "python",
   "pygments_lexer": "ipython2",
   "version": "2.7.6"
  }
 },
 "nbformat": 4,
 "nbformat_minor": 5
}
