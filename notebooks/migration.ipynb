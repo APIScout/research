{
 "cells": [
  {
   "cell_type": "code",
   "execution_count": 2,
   "outputs": [],
   "source": [
    "import re\n",
    "import json\n",
    "\n",
    "import urllib3\n",
    "import configparser\n",
    "\n",
    "import tensorflow_hub as hub\n",
    "import tensorflow.compat.v1 as tf\n",
    "\n",
    "from tqdm import tqdm\n",
    "from bson import InvalidBSON\n",
    "from pymongo import MongoClient\n",
    "from bson.json_util import dumps\n",
    "from elasticsearch import Elasticsearch"
   ],
   "metadata": {
    "collapsed": false,
    "ExecuteTime": {
     "end_time": "2023-11-20T18:07:10.797637Z",
     "start_time": "2023-11-20T18:07:10.795592Z"
    }
   },
   "id": "532bd5a521c95568"
  },
  {
   "cell_type": "code",
   "execution_count": 3,
   "outputs": [
    {
     "name": "stdout",
     "output_type": "stream",
     "text": [
      "Downloading pre-trained embeddings from tensorflow hub...\n",
      "INFO:tensorflow:Saver not created because there are no variables in the graph to restore\n",
      "Done.\n"
     ]
    }
   ],
   "source": [
    "print('Downloading pre-trained embeddings from tensorflow hub...')\n",
    "tf.disable_eager_execution()\n",
    "embed = hub.Module('../out/models/universal-sentence-encoder')\n",
    "text_ph = tf.placeholder(tf.string)\n",
    "embeddings = embed(text_ph)\n",
    "print('Done.')"
   ],
   "metadata": {
    "collapsed": false,
    "ExecuteTime": {
     "end_time": "2023-11-20T18:07:11.354399Z",
     "start_time": "2023-11-20T18:07:10.801827Z"
    }
   },
   "id": "f649c3874edbf5a5"
  },
  {
   "cell_type": "code",
   "execution_count": 4,
   "outputs": [
    {
     "name": "stdout",
     "output_type": "stream",
     "text": [
      "Creating tensorflow session...\n"
     ]
    },
    {
     "name": "stderr",
     "output_type": "stream",
     "text": [
      "2023-11-20 19:07:11.441386: I tensorflow/compiler/mlir/mlir_graph_optimization_pass.cc:382] MLIR V1 optimization pass is not enabled\n",
      "2023-11-20 19:07:12.362873: W tensorflow/c/c_api.cc:305] Operation '{name:'module/string_to_index_11/hash_table/table_init' id:3918 op device:{requested: '', assigned: ''} def:{{{node module/string_to_index_11/hash_table/table_init}} = InitializeTableV2[Tkey=DT_STRING, Tval=DT_INT64, _has_manual_control_dependencies=true](module/string_to_index_11/hash_table, module/Embeddings_en_words, module/string_to_index_11/ToInt64)}}' was changed by setting attribute after it was run by a session. This mutation will have no effect, and will trigger an error in the future. Either don't modify nodes after running them or create a new session.\n"
     ]
    },
    {
     "name": "stdout",
     "output_type": "stream",
     "text": [
      "Done.\n"
     ]
    }
   ],
   "source": [
    "print('Creating tensorflow session...')\n",
    "config = tf.ConfigProto()\n",
    "config.gpu_options.per_process_gpu_memory_fraction = 0.5\n",
    "session = tf.Session(config=config)\n",
    "session.run(tf.global_variables_initializer())\n",
    "session.run(tf.tables_initializer())\n",
    "print('Done.')"
   ],
   "metadata": {
    "collapsed": false,
    "ExecuteTime": {
     "end_time": "2023-11-20T18:07:14.200251Z",
     "start_time": "2023-11-20T18:07:11.353012Z"
    }
   },
   "id": "c0992fe87cea3089"
  },
  {
   "cell_type": "code",
   "execution_count": 5,
   "outputs": [],
   "source": [
    "urllib3.disable_warnings()\n",
    "\n",
    "config = configparser.ConfigParser()\n",
    "config.read('../server.ini');"
   ],
   "metadata": {
    "collapsed": false,
    "ExecuteTime": {
     "end_time": "2023-11-20T18:07:14.200643Z",
     "start_time": "2023-11-20T18:07:14.197105Z"
    }
   },
   "id": "fdaa5f782fffcaa0"
  },
  {
   "cell_type": "code",
   "execution_count": 6,
   "outputs": [
    {
     "name": "stderr",
     "output_type": "stream",
     "text": [
      "/opt/homebrew/Caskroom/miniconda/base/envs/thesis/lib/python3.10/site-packages/elasticsearch/connection/http_urllib3.py:209: UserWarning: Connecting to https://localhost:9200 using SSL with verify_certs=False is insecure.\n",
      "  warnings.warn(\n"
     ]
    }
   ],
   "source": [
    "# Elastic\n",
    "es = Elasticsearch(\n",
    "    config['ELASTIC']['path'],\n",
    "    verify_certs=False\n",
    ");"
   ],
   "metadata": {
    "collapsed": false,
    "ExecuteTime": {
     "end_time": "2023-11-20T18:07:14.206355Z",
     "start_time": "2023-11-20T18:07:14.201897Z"
    }
   },
   "id": "eabc652be758d9b5"
  },
  {
   "cell_type": "code",
   "execution_count": 7,
   "outputs": [],
   "source": [
    "# Mongo\n",
    "client = MongoClient(config['MONGODB']['path'])\n",
    "swagger = client['swagger']['apis']"
   ],
   "metadata": {
    "collapsed": false,
    "ExecuteTime": {
     "end_time": "2023-11-20T18:07:14.234531Z",
     "start_time": "2023-11-20T18:07:14.207405Z"
    }
   },
   "id": "4c3383b4f9cdee82"
  },
  {
   "cell_type": "code",
   "execution_count": 48,
   "outputs": [
    {
     "name": "stderr",
     "output_type": "stream",
     "text": [
      "/var/folders/yb/m5pxnktn1l94k6xgffj6j1y00000gn/T/ipykernel_4216/2905656582.py:5: DeprecationWarning: count is deprecated. Use Collection.count_documents instead.\n",
      "  count = batch.count()\n",
      "  0%|          | 4/201429 [00:10<152:51:31,  2.73s/it]\n"
     ]
    },
    {
     "ename": "KeyboardInterrupt",
     "evalue": "",
     "output_type": "error",
     "traceback": [
      "\u001B[0;31m---------------------------------------------------------------------------\u001B[0m",
      "\u001B[0;31mKeyboardInterrupt\u001B[0m                         Traceback (most recent call last)",
      "Cell \u001B[0;32mIn[48], line 9\u001B[0m\n\u001B[1;32m      7\u001B[0m \u001B[38;5;28;01mfor\u001B[39;00m n \u001B[38;5;129;01min\u001B[39;00m tqdm(\u001B[38;5;28mrange\u001B[39m(\u001B[38;5;241m230836\u001B[39m, count)):\n\u001B[1;32m      8\u001B[0m     \u001B[38;5;28;01mtry\u001B[39;00m:\n\u001B[0;32m----> 9\u001B[0m         document \u001B[38;5;241m=\u001B[39m json\u001B[38;5;241m.\u001B[39mloads(dumps(\u001B[43mbatch\u001B[49m\u001B[38;5;241;43m.\u001B[39;49m\u001B[43mskip\u001B[49m\u001B[43m(\u001B[49m\u001B[43mn\u001B[49m\u001B[43m)\u001B[49m\u001B[38;5;241;43m.\u001B[39;49m\u001B[43mlimit\u001B[49m\u001B[43m(\u001B[49m\u001B[38;5;241;43m1\u001B[39;49m\u001B[43m)\u001B[49m\u001B[43m[\u001B[49m\u001B[38;5;241;43m0\u001B[39;49m\u001B[43m]\u001B[49m))\n\u001B[1;32m     10\u001B[0m         nl_tags \u001B[38;5;241m=\u001B[39m \u001B[38;5;124mr\u001B[39m\u001B[38;5;124m'\u001B[39m\u001B[38;5;124m(?:\u001B[39m\u001B[38;5;130;01m\\'\u001B[39;00m\u001B[38;5;124m|\u001B[39m\u001B[38;5;124m\\\u001B[39m\u001B[38;5;124m\"\u001B[39m\u001B[38;5;124m)(?:description|name|title|summary)(?:\u001B[39m\u001B[38;5;130;01m\\'\u001B[39;00m\u001B[38;5;124m|\u001B[39m\u001B[38;5;124m\\\u001B[39m\u001B[38;5;124m\"\u001B[39m\u001B[38;5;124m):\u001B[39m\u001B[38;5;124m\\\u001B[39m\u001B[38;5;124ms(?:\u001B[39m\u001B[38;5;130;01m\\'\u001B[39;00m\u001B[38;5;124m|\u001B[39m\u001B[38;5;124m\\\u001B[39m\u001B[38;5;124m\"\u001B[39m\u001B[38;5;124m)([^\u001B[39m\u001B[38;5;130;01m\\'\u001B[39;00m\u001B[38;5;124m\\\u001B[39m\u001B[38;5;124m\"\u001B[39m\u001B[38;5;124m]+)(?:\u001B[39m\u001B[38;5;130;01m\\'\u001B[39;00m\u001B[38;5;124m|\u001B[39m\u001B[38;5;124m\\\u001B[39m\u001B[38;5;124m\"\u001B[39m\u001B[38;5;124m)\u001B[39m\u001B[38;5;124m'\u001B[39m\n\u001B[1;32m     12\u001B[0m         obj \u001B[38;5;241m=\u001B[39m {\n\u001B[1;32m     13\u001B[0m             \u001B[38;5;124m'\u001B[39m\u001B[38;5;124mid\u001B[39m\u001B[38;5;124m'\u001B[39m: \u001B[38;5;28mstr\u001B[39m(document[\u001B[38;5;124m'\u001B[39m\u001B[38;5;124m_id\u001B[39m\u001B[38;5;124m'\u001B[39m][\u001B[38;5;124m'\u001B[39m\u001B[38;5;124m$oid\u001B[39m\u001B[38;5;124m'\u001B[39m]),\n\u001B[1;32m     14\u001B[0m             \u001B[38;5;124m'\u001B[39m\u001B[38;5;124murl\u001B[39m\u001B[38;5;124m'\u001B[39m: \u001B[38;5;28mstr\u001B[39m(document[\u001B[38;5;124m'\u001B[39m\u001B[38;5;124m_API_reference\u001B[39m\u001B[38;5;124m'\u001B[39m]),\n\u001B[0;32m   (...)\u001B[0m\n\u001B[1;32m     17\u001B[0m             \u001B[38;5;124m'\u001B[39m\u001B[38;5;124membedding\u001B[39m\u001B[38;5;124m'\u001B[39m: session\u001B[38;5;241m.\u001B[39mrun(embeddings, feed_dict\u001B[38;5;241m=\u001B[39m{text_ph: [\u001B[38;5;124m'\u001B[39m\u001B[38;5;124m \u001B[39m\u001B[38;5;124m'\u001B[39m\u001B[38;5;241m.\u001B[39mjoin(re\u001B[38;5;241m.\u001B[39mfindall(nl_tags, \u001B[38;5;28mstr\u001B[39m(document)))]})\u001B[38;5;241m.\u001B[39mtolist()[\u001B[38;5;241m0\u001B[39m]\n\u001B[1;32m     18\u001B[0m         }\n",
      "File \u001B[0;32m/opt/homebrew/Caskroom/miniconda/base/envs/thesis/lib/python3.10/site-packages/pymongo/cursor.py:692\u001B[0m, in \u001B[0;36mCursor.__getitem__\u001B[0;34m(self, index)\u001B[0m\n\u001B[1;32m    690\u001B[0m clone\u001B[38;5;241m.\u001B[39mlimit(\u001B[38;5;241m-\u001B[39m\u001B[38;5;241m1\u001B[39m)  \u001B[38;5;66;03m# use a hard limit\u001B[39;00m\n\u001B[1;32m    691\u001B[0m clone\u001B[38;5;241m.\u001B[39m__query_flags \u001B[38;5;241m&\u001B[39m\u001B[38;5;241m=\u001B[39m \u001B[38;5;241m~\u001B[39mCursorType\u001B[38;5;241m.\u001B[39mTAILABLE_AWAIT  \u001B[38;5;66;03m# PYTHON-1371\u001B[39;00m\n\u001B[0;32m--> 692\u001B[0m \u001B[38;5;28;01mfor\u001B[39;00m doc \u001B[38;5;129;01min\u001B[39;00m clone:\n\u001B[1;32m    693\u001B[0m     \u001B[38;5;28;01mreturn\u001B[39;00m doc\n\u001B[1;32m    694\u001B[0m \u001B[38;5;28;01mraise\u001B[39;00m \u001B[38;5;167;01mIndexError\u001B[39;00m(\u001B[38;5;124m\"\u001B[39m\u001B[38;5;124mno such item for Cursor instance\u001B[39m\u001B[38;5;124m\"\u001B[39m)\n",
      "File \u001B[0;32m/opt/homebrew/Caskroom/miniconda/base/envs/thesis/lib/python3.10/site-packages/pymongo/cursor.py:1238\u001B[0m, in \u001B[0;36mCursor.next\u001B[0;34m(self)\u001B[0m\n\u001B[1;32m   1236\u001B[0m \u001B[38;5;28;01mif\u001B[39;00m \u001B[38;5;28mself\u001B[39m\u001B[38;5;241m.\u001B[39m__empty:\n\u001B[1;32m   1237\u001B[0m     \u001B[38;5;28;01mraise\u001B[39;00m \u001B[38;5;167;01mStopIteration\u001B[39;00m\n\u001B[0;32m-> 1238\u001B[0m \u001B[38;5;28;01mif\u001B[39;00m \u001B[38;5;28mlen\u001B[39m(\u001B[38;5;28mself\u001B[39m\u001B[38;5;241m.\u001B[39m__data) \u001B[38;5;129;01mor\u001B[39;00m \u001B[38;5;28;43mself\u001B[39;49m\u001B[38;5;241;43m.\u001B[39;49m\u001B[43m_refresh\u001B[49m\u001B[43m(\u001B[49m\u001B[43m)\u001B[49m:\n\u001B[1;32m   1239\u001B[0m     \u001B[38;5;28;01mif\u001B[39;00m \u001B[38;5;28mself\u001B[39m\u001B[38;5;241m.\u001B[39m__manipulate:\n\u001B[1;32m   1240\u001B[0m         _db \u001B[38;5;241m=\u001B[39m \u001B[38;5;28mself\u001B[39m\u001B[38;5;241m.\u001B[39m__collection\u001B[38;5;241m.\u001B[39mdatabase\n",
      "File \u001B[0;32m/opt/homebrew/Caskroom/miniconda/base/envs/thesis/lib/python3.10/site-packages/pymongo/cursor.py:1155\u001B[0m, in \u001B[0;36mCursor._refresh\u001B[0;34m(self)\u001B[0m\n\u001B[1;32m   1134\u001B[0m         warnings\u001B[38;5;241m.\u001B[39mwarn(\u001B[38;5;124m\"\u001B[39m\u001B[38;5;124musing a min/max query operator without \u001B[39m\u001B[38;5;124m\"\u001B[39m\n\u001B[1;32m   1135\u001B[0m                       \u001B[38;5;124m\"\u001B[39m\u001B[38;5;124mspecifying a Cursor.hint is deprecated. A \u001B[39m\u001B[38;5;124m\"\u001B[39m\n\u001B[1;32m   1136\u001B[0m                       \u001B[38;5;124m\"\u001B[39m\u001B[38;5;124mhint will be required when using min/max in \u001B[39m\u001B[38;5;124m\"\u001B[39m\n\u001B[1;32m   1137\u001B[0m                       \u001B[38;5;124m\"\u001B[39m\u001B[38;5;124mPyMongo 4.0\u001B[39m\u001B[38;5;124m\"\u001B[39m,\n\u001B[1;32m   1138\u001B[0m                       \u001B[38;5;167;01mDeprecationWarning\u001B[39;00m, stacklevel\u001B[38;5;241m=\u001B[39m\u001B[38;5;241m3\u001B[39m)\n\u001B[1;32m   1139\u001B[0m     q \u001B[38;5;241m=\u001B[39m \u001B[38;5;28mself\u001B[39m\u001B[38;5;241m.\u001B[39m_query_class(\u001B[38;5;28mself\u001B[39m\u001B[38;5;241m.\u001B[39m__query_flags,\n\u001B[1;32m   1140\u001B[0m                           \u001B[38;5;28mself\u001B[39m\u001B[38;5;241m.\u001B[39m__collection\u001B[38;5;241m.\u001B[39mdatabase\u001B[38;5;241m.\u001B[39mname,\n\u001B[1;32m   1141\u001B[0m                           \u001B[38;5;28mself\u001B[39m\u001B[38;5;241m.\u001B[39m__collection\u001B[38;5;241m.\u001B[39mname,\n\u001B[0;32m   (...)\u001B[0m\n\u001B[1;32m   1153\u001B[0m                           \u001B[38;5;28mself\u001B[39m\u001B[38;5;241m.\u001B[39m__allow_disk_use,\n\u001B[1;32m   1154\u001B[0m                           \u001B[38;5;28mself\u001B[39m\u001B[38;5;241m.\u001B[39m__exhaust)\n\u001B[0;32m-> 1155\u001B[0m     \u001B[38;5;28;43mself\u001B[39;49m\u001B[38;5;241;43m.\u001B[39;49m\u001B[43m__send_message\u001B[49m\u001B[43m(\u001B[49m\u001B[43mq\u001B[49m\u001B[43m)\u001B[49m\n\u001B[1;32m   1156\u001B[0m \u001B[38;5;28;01melif\u001B[39;00m \u001B[38;5;28mself\u001B[39m\u001B[38;5;241m.\u001B[39m__id:  \u001B[38;5;66;03m# Get More\u001B[39;00m\n\u001B[1;32m   1157\u001B[0m     \u001B[38;5;28;01mif\u001B[39;00m \u001B[38;5;28mself\u001B[39m\u001B[38;5;241m.\u001B[39m__limit:\n",
      "File \u001B[0;32m/opt/homebrew/Caskroom/miniconda/base/envs/thesis/lib/python3.10/site-packages/pymongo/cursor.py:1044\u001B[0m, in \u001B[0;36mCursor.__send_message\u001B[0;34m(self, operation)\u001B[0m\n\u001B[1;32m   1040\u001B[0m     \u001B[38;5;28;01mraise\u001B[39;00m InvalidOperation(\n\u001B[1;32m   1041\u001B[0m         \u001B[38;5;124m\"\u001B[39m\u001B[38;5;124mexhaust cursors do not support auto encryption\u001B[39m\u001B[38;5;124m\"\u001B[39m)\n\u001B[1;32m   1043\u001B[0m \u001B[38;5;28;01mtry\u001B[39;00m:\n\u001B[0;32m-> 1044\u001B[0m     response \u001B[38;5;241m=\u001B[39m \u001B[43mclient\u001B[49m\u001B[38;5;241;43m.\u001B[39;49m\u001B[43m_run_operation\u001B[49m\u001B[43m(\u001B[49m\n\u001B[1;32m   1045\u001B[0m \u001B[43m        \u001B[49m\u001B[43moperation\u001B[49m\u001B[43m,\u001B[49m\u001B[43m \u001B[49m\u001B[38;5;28;43mself\u001B[39;49m\u001B[38;5;241;43m.\u001B[39;49m\u001B[43m_unpack_response\u001B[49m\u001B[43m,\u001B[49m\u001B[43m \u001B[49m\u001B[43maddress\u001B[49m\u001B[38;5;241;43m=\u001B[39;49m\u001B[38;5;28;43mself\u001B[39;49m\u001B[38;5;241;43m.\u001B[39;49m\u001B[43m__address\u001B[49m\u001B[43m)\u001B[49m\n\u001B[1;32m   1046\u001B[0m \u001B[38;5;28;01mexcept\u001B[39;00m OperationFailure \u001B[38;5;28;01mas\u001B[39;00m exc:\n\u001B[1;32m   1047\u001B[0m     \u001B[38;5;28;01mif\u001B[39;00m exc\u001B[38;5;241m.\u001B[39mcode \u001B[38;5;129;01min\u001B[39;00m _CURSOR_CLOSED_ERRORS \u001B[38;5;129;01mor\u001B[39;00m \u001B[38;5;28mself\u001B[39m\u001B[38;5;241m.\u001B[39m__exhaust:\n\u001B[1;32m   1048\u001B[0m         \u001B[38;5;66;03m# Don't send killCursors because the cursor is already closed.\u001B[39;00m\n",
      "File \u001B[0;32m/opt/homebrew/Caskroom/miniconda/base/envs/thesis/lib/python3.10/site-packages/pymongo/mongo_client.py:1424\u001B[0m, in \u001B[0;36mMongoClient._run_operation\u001B[0;34m(self, operation, unpack_res, address)\u001B[0m\n\u001B[1;32m   1419\u001B[0m \u001B[38;5;28;01mdef\u001B[39;00m \u001B[38;5;21m_cmd\u001B[39m(session, server, sock_info, secondary_ok):\n\u001B[1;32m   1420\u001B[0m     \u001B[38;5;28;01mreturn\u001B[39;00m server\u001B[38;5;241m.\u001B[39mrun_operation(\n\u001B[1;32m   1421\u001B[0m         sock_info, operation, secondary_ok, \u001B[38;5;28mself\u001B[39m\u001B[38;5;241m.\u001B[39m_event_listeners,\n\u001B[1;32m   1422\u001B[0m         unpack_res)\n\u001B[0;32m-> 1424\u001B[0m \u001B[38;5;28;01mreturn\u001B[39;00m \u001B[38;5;28;43mself\u001B[39;49m\u001B[38;5;241;43m.\u001B[39;49m\u001B[43m_retryable_read\u001B[49m\u001B[43m(\u001B[49m\n\u001B[1;32m   1425\u001B[0m \u001B[43m    \u001B[49m\u001B[43m_cmd\u001B[49m\u001B[43m,\u001B[49m\u001B[43m \u001B[49m\u001B[43moperation\u001B[49m\u001B[38;5;241;43m.\u001B[39;49m\u001B[43mread_preference\u001B[49m\u001B[43m,\u001B[49m\u001B[43m \u001B[49m\u001B[43moperation\u001B[49m\u001B[38;5;241;43m.\u001B[39;49m\u001B[43msession\u001B[49m\u001B[43m,\u001B[49m\n\u001B[1;32m   1426\u001B[0m \u001B[43m    \u001B[49m\u001B[43maddress\u001B[49m\u001B[38;5;241;43m=\u001B[39;49m\u001B[43maddress\u001B[49m\u001B[43m,\u001B[49m\u001B[43m \u001B[49m\u001B[43mretryable\u001B[49m\u001B[38;5;241;43m=\u001B[39;49m\u001B[38;5;28;43misinstance\u001B[39;49m\u001B[43m(\u001B[49m\u001B[43moperation\u001B[49m\u001B[43m,\u001B[49m\u001B[43m \u001B[49m\u001B[43mmessage\u001B[49m\u001B[38;5;241;43m.\u001B[39;49m\u001B[43m_Query\u001B[49m\u001B[43m)\u001B[49m\u001B[43m)\u001B[49m\n",
      "File \u001B[0;32m/opt/homebrew/Caskroom/miniconda/base/envs/thesis/lib/python3.10/site-packages/pymongo/mongo_client.py:1525\u001B[0m, in \u001B[0;36mMongoClient._retryable_read\u001B[0;34m(self, func, read_pref, session, address, retryable)\u001B[0m\n\u001B[1;32m   1521\u001B[0m         \u001B[38;5;28;01mif\u001B[39;00m retrying \u001B[38;5;129;01mand\u001B[39;00m \u001B[38;5;129;01mnot\u001B[39;00m retryable:\n\u001B[1;32m   1522\u001B[0m             \u001B[38;5;66;03m# A retry is not possible because this server does\u001B[39;00m\n\u001B[1;32m   1523\u001B[0m             \u001B[38;5;66;03m# not support retryable reads, raise the last error.\u001B[39;00m\n\u001B[1;32m   1524\u001B[0m             \u001B[38;5;28;01mraise\u001B[39;00m last_error\n\u001B[0;32m-> 1525\u001B[0m         \u001B[38;5;28;01mreturn\u001B[39;00m \u001B[43mfunc\u001B[49m\u001B[43m(\u001B[49m\u001B[43msession\u001B[49m\u001B[43m,\u001B[49m\u001B[43m \u001B[49m\u001B[43mserver\u001B[49m\u001B[43m,\u001B[49m\u001B[43m \u001B[49m\u001B[43msock_info\u001B[49m\u001B[43m,\u001B[49m\u001B[43m \u001B[49m\u001B[43msecondary_ok\u001B[49m\u001B[43m)\u001B[49m\n\u001B[1;32m   1526\u001B[0m \u001B[38;5;28;01mexcept\u001B[39;00m ServerSelectionTimeoutError:\n\u001B[1;32m   1527\u001B[0m     \u001B[38;5;28;01mif\u001B[39;00m retrying:\n\u001B[1;32m   1528\u001B[0m         \u001B[38;5;66;03m# The application may think the write was never attempted\u001B[39;00m\n\u001B[1;32m   1529\u001B[0m         \u001B[38;5;66;03m# if we raise ServerSelectionTimeoutError on the retry\u001B[39;00m\n\u001B[1;32m   1530\u001B[0m         \u001B[38;5;66;03m# attempt. Raise the original exception instead.\u001B[39;00m\n",
      "File \u001B[0;32m/opt/homebrew/Caskroom/miniconda/base/envs/thesis/lib/python3.10/site-packages/pymongo/mongo_client.py:1420\u001B[0m, in \u001B[0;36mMongoClient._run_operation.<locals>._cmd\u001B[0;34m(session, server, sock_info, secondary_ok)\u001B[0m\n\u001B[1;32m   1419\u001B[0m \u001B[38;5;28;01mdef\u001B[39;00m \u001B[38;5;21m_cmd\u001B[39m(session, server, sock_info, secondary_ok):\n\u001B[0;32m-> 1420\u001B[0m     \u001B[38;5;28;01mreturn\u001B[39;00m \u001B[43mserver\u001B[49m\u001B[38;5;241;43m.\u001B[39;49m\u001B[43mrun_operation\u001B[49m\u001B[43m(\u001B[49m\n\u001B[1;32m   1421\u001B[0m \u001B[43m        \u001B[49m\u001B[43msock_info\u001B[49m\u001B[43m,\u001B[49m\u001B[43m \u001B[49m\u001B[43moperation\u001B[49m\u001B[43m,\u001B[49m\u001B[43m \u001B[49m\u001B[43msecondary_ok\u001B[49m\u001B[43m,\u001B[49m\u001B[43m \u001B[49m\u001B[38;5;28;43mself\u001B[39;49m\u001B[38;5;241;43m.\u001B[39;49m\u001B[43m_event_listeners\u001B[49m\u001B[43m,\u001B[49m\n\u001B[1;32m   1422\u001B[0m \u001B[43m        \u001B[49m\u001B[43munpack_res\u001B[49m\u001B[43m)\u001B[49m\n",
      "File \u001B[0;32m/opt/homebrew/Caskroom/miniconda/base/envs/thesis/lib/python3.10/site-packages/pymongo/server.py:114\u001B[0m, in \u001B[0;36mServer.run_operation\u001B[0;34m(self, sock_info, operation, set_secondary_okay, listeners, unpack_res)\u001B[0m\n\u001B[1;32m    112\u001B[0m \u001B[38;5;28;01melse\u001B[39;00m:\n\u001B[1;32m    113\u001B[0m     sock_info\u001B[38;5;241m.\u001B[39msend_message(data, max_doc_size)\n\u001B[0;32m--> 114\u001B[0m     reply \u001B[38;5;241m=\u001B[39m \u001B[43msock_info\u001B[49m\u001B[38;5;241;43m.\u001B[39;49m\u001B[43mreceive_message\u001B[49m\u001B[43m(\u001B[49m\u001B[43mrequest_id\u001B[49m\u001B[43m)\u001B[49m\n\u001B[1;32m    116\u001B[0m \u001B[38;5;66;03m# Unpack and check for command errors.\u001B[39;00m\n\u001B[1;32m    117\u001B[0m \u001B[38;5;28;01mif\u001B[39;00m use_cmd:\n",
      "File \u001B[0;32m/opt/homebrew/Caskroom/miniconda/base/envs/thesis/lib/python3.10/site-packages/pymongo/pool.py:753\u001B[0m, in \u001B[0;36mSocketInfo.receive_message\u001B[0;34m(self, request_id)\u001B[0m\n\u001B[1;32m    751\u001B[0m     \u001B[38;5;28;01mreturn\u001B[39;00m receive_message(\u001B[38;5;28mself\u001B[39m, request_id, \u001B[38;5;28mself\u001B[39m\u001B[38;5;241m.\u001B[39mmax_message_size)\n\u001B[1;32m    752\u001B[0m \u001B[38;5;28;01mexcept\u001B[39;00m \u001B[38;5;167;01mBaseException\u001B[39;00m \u001B[38;5;28;01mas\u001B[39;00m error:\n\u001B[0;32m--> 753\u001B[0m     \u001B[38;5;28;43mself\u001B[39;49m\u001B[38;5;241;43m.\u001B[39;49m\u001B[43m_raise_connection_failure\u001B[49m\u001B[43m(\u001B[49m\u001B[43merror\u001B[49m\u001B[43m)\u001B[49m\n",
      "File \u001B[0;32m/opt/homebrew/Caskroom/miniconda/base/envs/thesis/lib/python3.10/site-packages/pymongo/pool.py:751\u001B[0m, in \u001B[0;36mSocketInfo.receive_message\u001B[0;34m(self, request_id)\u001B[0m\n\u001B[1;32m    746\u001B[0m \u001B[38;5;250m\u001B[39m\u001B[38;5;124;03m\"\"\"Receive a raw BSON message or raise ConnectionFailure.\u001B[39;00m\n\u001B[1;32m    747\u001B[0m \n\u001B[1;32m    748\u001B[0m \u001B[38;5;124;03mIf any exception is raised, the socket is closed.\u001B[39;00m\n\u001B[1;32m    749\u001B[0m \u001B[38;5;124;03m\"\"\"\u001B[39;00m\n\u001B[1;32m    750\u001B[0m \u001B[38;5;28;01mtry\u001B[39;00m:\n\u001B[0;32m--> 751\u001B[0m     \u001B[38;5;28;01mreturn\u001B[39;00m \u001B[43mreceive_message\u001B[49m\u001B[43m(\u001B[49m\u001B[38;5;28;43mself\u001B[39;49m\u001B[43m,\u001B[49m\u001B[43m \u001B[49m\u001B[43mrequest_id\u001B[49m\u001B[43m,\u001B[49m\u001B[43m \u001B[49m\u001B[38;5;28;43mself\u001B[39;49m\u001B[38;5;241;43m.\u001B[39;49m\u001B[43mmax_message_size\u001B[49m\u001B[43m)\u001B[49m\n\u001B[1;32m    752\u001B[0m \u001B[38;5;28;01mexcept\u001B[39;00m \u001B[38;5;167;01mBaseException\u001B[39;00m \u001B[38;5;28;01mas\u001B[39;00m error:\n\u001B[1;32m    753\u001B[0m     \u001B[38;5;28mself\u001B[39m\u001B[38;5;241m.\u001B[39m_raise_connection_failure(error)\n",
      "File \u001B[0;32m/opt/homebrew/Caskroom/miniconda/base/envs/thesis/lib/python3.10/site-packages/pymongo/network.py:196\u001B[0m, in \u001B[0;36mreceive_message\u001B[0;34m(sock_info, request_id, max_message_size)\u001B[0m\n\u001B[1;32m    193\u001B[0m     deadline \u001B[38;5;241m=\u001B[39m \u001B[38;5;28;01mNone\u001B[39;00m\n\u001B[1;32m    194\u001B[0m \u001B[38;5;66;03m# Ignore the response's request id.\u001B[39;00m\n\u001B[1;32m    195\u001B[0m length, _, response_to, op_code \u001B[38;5;241m=\u001B[39m _UNPACK_HEADER(\n\u001B[0;32m--> 196\u001B[0m     \u001B[43m_receive_data_on_socket\u001B[49m\u001B[43m(\u001B[49m\u001B[43msock_info\u001B[49m\u001B[43m,\u001B[49m\u001B[43m \u001B[49m\u001B[38;5;241;43m16\u001B[39;49m\u001B[43m,\u001B[49m\u001B[43m \u001B[49m\u001B[43mdeadline\u001B[49m\u001B[43m)\u001B[49m)\n\u001B[1;32m    197\u001B[0m \u001B[38;5;66;03m# No request_id for exhaust cursor \"getMore\".\u001B[39;00m\n\u001B[1;32m    198\u001B[0m \u001B[38;5;28;01mif\u001B[39;00m request_id \u001B[38;5;129;01mis\u001B[39;00m \u001B[38;5;129;01mnot\u001B[39;00m \u001B[38;5;28;01mNone\u001B[39;00m:\n",
      "File \u001B[0;32m/opt/homebrew/Caskroom/miniconda/base/envs/thesis/lib/python3.10/site-packages/pymongo/network.py:287\u001B[0m, in \u001B[0;36m_receive_data_on_socket\u001B[0;34m(sock_info, length, deadline)\u001B[0m\n\u001B[1;32m    285\u001B[0m \u001B[38;5;28;01mtry\u001B[39;00m:\n\u001B[1;32m    286\u001B[0m     wait_for_read(sock_info, deadline)\n\u001B[0;32m--> 287\u001B[0m     chunk_length \u001B[38;5;241m=\u001B[39m \u001B[43msock_info\u001B[49m\u001B[38;5;241;43m.\u001B[39;49m\u001B[43msock\u001B[49m\u001B[38;5;241;43m.\u001B[39;49m\u001B[43mrecv_into\u001B[49m\u001B[43m(\u001B[49m\u001B[43mmv\u001B[49m\u001B[43m[\u001B[49m\u001B[43mbytes_read\u001B[49m\u001B[43m:\u001B[49m\u001B[43m]\u001B[49m\u001B[43m)\u001B[49m\n\u001B[1;32m    288\u001B[0m \u001B[38;5;28;01mexcept\u001B[39;00m (\u001B[38;5;167;01mIOError\u001B[39;00m, \u001B[38;5;167;01mOSError\u001B[39;00m) \u001B[38;5;28;01mas\u001B[39;00m exc:\n\u001B[1;32m    289\u001B[0m     \u001B[38;5;28;01mif\u001B[39;00m _errno_from_exception(exc) \u001B[38;5;241m==\u001B[39m errno\u001B[38;5;241m.\u001B[39mEINTR:\n",
      "\u001B[0;31mKeyboardInterrupt\u001B[0m: "
     ]
    }
   ],
   "source": [
    "tot = 0\n",
    "skipped = 0\n",
    "\n",
    "batch = swagger.find(batch_size=100)\n",
    "count = batch.count()\n",
    "\n",
    "for n in tqdm(range(230840, count)):\n",
    "    try:\n",
    "        document = json.loads(dumps(batch.skip(n).limit(1)[0]))\n",
    "        nl_tags = r'(?:\\'|\\\")(?:description|name|title|summary)(?:\\'|\\\"):\\s(?:\\'|\\\")([^\\'\\\"]+)(?:\\'|\\\")'\n",
    "\n",
    "        obj = {\n",
    "            'id': str(document['_id']['$oid']),\n",
    "            'url': str(document['_API_reference']),\n",
    "            'name': str(document['_name']),\n",
    "            'version': str(document['_version']) if not str(document['_version'].startswith('v')) else str(document['_version'][1:]),\n",
    "            'embedding': session.run(embeddings, feed_dict={text_ph: [' '.join(re.findall(nl_tags, str(document)))]}).tolist()[0]\n",
    "        }\n",
    "\n",
    "        es.index(index='migration-test', body=obj)\n",
    "        \n",
    "        tot += 1\n",
    "    except InvalidBSON:\n",
    "        skipped += 1\n",
    "    except TypeError:\n",
    "        skipped += 1\n",
    "\n",
    "print(tot, '/', count)\n",
    "print(skipped, '/', count)"
   ],
   "metadata": {
    "collapsed": false,
    "ExecuteTime": {
     "end_time": "2023-11-20T13:53:02.201279Z",
     "start_time": "2023-11-20T13:52:51.101430Z"
    }
   },
   "id": "df76f7cac044c963"
  },
  {
   "cell_type": "code",
   "execution_count": 26,
   "outputs": [],
   "source": [
    "query = 'eating healthy'\n",
    "\n",
    "knn_query = {\n",
    "    'knn': {\n",
    "        'field': 'embedding',\n",
    "        'query_vector': session.run(embeddings, feed_dict={text_ph: [query]}).tolist()[0],\n",
    "        'k': 5,\n",
    "        'num_candidates': 10000\n",
    "    }\n",
    "}\n",
    "\n",
    "results = es.search(index='migration-test', body=knn_query, _source=['name', 'version'])['hits']['hits']"
   ],
   "metadata": {
    "collapsed": false,
    "ExecuteTime": {
     "end_time": "2023-11-20T19:17:14.093001Z",
     "start_time": "2023-11-20T19:17:13.912794Z"
    }
   },
   "id": "1761a0fe0e5347d5"
  },
  {
   "cell_type": "code",
   "execution_count": 27,
   "outputs": [
    {
     "name": "stdout",
     "output_type": "stream",
     "text": [
      "These are the top 5 results of the query \"eating healthy\":\n",
      "\n",
      "\t1. fat_free_title   v..0.1   [74%]\n",
      "\t2. eating           v..0.0   [73%]\n",
      "\t3. rest ibs         v.1      [72%]\n",
      "\t4. IBS for MK       v.       [69%]\n",
      "\t5. ATPJWT-api       v..0.1   [68%]\n"
     ]
    }
   ],
   "source": [
    "print(f'These are the top 5 results of the query \"{query}\":\\n')\n",
    "\n",
    "for ind, result in enumerate(results):\n",
    "    length_name = max([len(el['_source']['name']) for el in results]) + 2\n",
    "    length_version = max([len(el['_source']['version']) for el in results]) + 2\n",
    "\n",
    "    print(\n",
    "        f'\\t{str(ind + 1) + \".\": <2} {result[\"_source\"][\"name\"]: <{length_name}} v.{result[\"_source\"][\"version\"]: <{length_version}} [{str(result[\"_score\"] * 100)[:2]}%]')"
   ],
   "metadata": {
    "collapsed": false,
    "ExecuteTime": {
     "end_time": "2023-11-20T19:17:14.097571Z",
     "start_time": "2023-11-20T19:17:14.094962Z"
    }
   },
   "id": "6f4473ec12d501a1"
  },
  {
   "cell_type": "code",
   "execution_count": null,
   "outputs": [],
   "source": [],
   "metadata": {
    "collapsed": false
   },
   "id": "1124be082b0ff1e2"
  }
 ],
 "metadata": {
  "kernelspec": {
   "display_name": "Python 3",
   "language": "python",
   "name": "python3"
  },
  "language_info": {
   "codemirror_mode": {
    "name": "ipython",
    "version": 2
   },
   "file_extension": ".py",
   "mimetype": "text/x-python",
   "name": "python",
   "nbconvert_exporter": "python",
   "pygments_lexer": "ipython2",
   "version": "2.7.6"
  }
 },
 "nbformat": 4,
 "nbformat_minor": 5
}
