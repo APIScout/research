{
 "cells": [
  {
   "cell_type": "code",
   "execution_count": 1,
   "outputs": [],
   "source": [
    "import re\n",
    "import sys\n",
    "import json\n",
    "\n",
    "import urllib3\n",
    "import configparser\n",
    "\n",
    "import tensorflow_hub as hub\n",
    "import tensorflow.compat.v1 as tf\n",
    "\n",
    "from math import ceil\n",
    "from tqdm import tqdm\n",
    "from bson import InvalidBSON\n",
    "from pymongo import MongoClient\n",
    "from bson.json_util import dumps\n",
    "from elasticsearch import Elasticsearch"
   ],
   "metadata": {
    "collapsed": false,
    "ExecuteTime": {
     "end_time": "2023-11-22T11:03:41.271961Z",
     "start_time": "2023-11-22T11:03:37.847630Z"
    }
   },
   "id": "532bd5a521c95568"
  },
  {
   "cell_type": "code",
   "execution_count": null,
   "outputs": [],
   "source": [
    "print('Downloading pre-trained embeddings from tensorflow hub...')\n",
    "tf.disable_eager_execution()\n",
    "embed = hub.Module('../out/models/universal-sentence-encoder')\n",
    "text_ph = tf.placeholder(tf.string)\n",
    "embeddings = embed(text_ph)\n",
    "print('Done.')"
   ],
   "metadata": {
    "collapsed": false
   },
   "id": "f649c3874edbf5a5"
  },
  {
   "cell_type": "code",
   "execution_count": null,
   "outputs": [],
   "source": [
    "print('Creating tensorflow session...')\n",
    "config = tf.ConfigProto()\n",
    "config.gpu_options.per_process_gpu_memory_fraction = 0.5\n",
    "session = tf.Session(config=config)\n",
    "session.run(tf.global_variables_initializer())\n",
    "session.run(tf.tables_initializer())\n",
    "print('Done.')"
   ],
   "metadata": {
    "collapsed": false
   },
   "id": "c0992fe87cea3089"
  },
  {
   "cell_type": "code",
   "execution_count": 17,
   "outputs": [],
   "source": [
    "urllib3.disable_warnings()\n",
    "\n",
    "config = configparser.ConfigParser()\n",
    "config.read('../server.ini');"
   ],
   "metadata": {
    "collapsed": false,
    "ExecuteTime": {
     "end_time": "2023-11-22T11:09:49.193985Z",
     "start_time": "2023-11-22T11:09:49.189632Z"
    }
   },
   "id": "fdaa5f782fffcaa0"
  },
  {
   "cell_type": "code",
   "execution_count": null,
   "outputs": [],
   "source": [
    "# Elastic\n",
    "es = Elasticsearch(\n",
    "    config['ELASTIC']['path'],\n",
    "    verify_certs=False\n",
    ");"
   ],
   "metadata": {
    "collapsed": false
   },
   "id": "eabc652be758d9b5"
  },
  {
   "cell_type": "code",
   "execution_count": 19,
   "outputs": [],
   "source": [
    "# Mongo\n",
    "client = MongoClient(config['MONGODB']['path'])\n",
    "db = client['swagger']\n",
    "swagger = db['apis']"
   ],
   "metadata": {
    "collapsed": false,
    "ExecuteTime": {
     "end_time": "2023-11-22T11:09:49.769558Z",
     "start_time": "2023-11-22T11:09:49.761944Z"
    }
   },
   "id": "4c3383b4f9cdee82"
  },
  {
   "cell_type": "code",
   "execution_count": 20,
   "outputs": [
    {
     "name": "stderr",
     "output_type": "stream",
     "text": [
      "  0%|          | 930/432265 [00:00<06:31, 1102.05it/s]\n"
     ]
    },
    {
     "ename": "InvalidBSON",
     "evalue": "collection must be an instance of str",
     "output_type": "error",
     "traceback": [
      "\u001B[0;31m---------------------------------------------------------------------------\u001B[0m",
      "\u001B[0;31mInvalidBSON\u001B[0m                               Traceback (most recent call last)",
      "Cell \u001B[0;32mIn[20], line 8\u001B[0m\n\u001B[1;32m      4\u001B[0m count \u001B[38;5;241m=\u001B[39m swagger\u001B[38;5;241m.\u001B[39mcount_documents({})\n\u001B[1;32m      6\u001B[0m \u001B[38;5;28;01mfor\u001B[39;00m n \u001B[38;5;129;01min\u001B[39;00m tqdm(\u001B[38;5;28mrange\u001B[39m(count)):\n\u001B[1;32m      7\u001B[0m     \u001B[38;5;66;03m# try:\u001B[39;00m\n\u001B[0;32m----> 8\u001B[0m         document \u001B[38;5;241m=\u001B[39m \u001B[43mswagger\u001B[49m\u001B[38;5;241;43m.\u001B[39;49m\u001B[43mfind\u001B[49m\u001B[43m(\u001B[49m\u001B[43m{\u001B[49m\u001B[43m}\u001B[49m\u001B[43m)\u001B[49m\u001B[38;5;241;43m.\u001B[39;49m\u001B[43mskip\u001B[49m\u001B[43m(\u001B[49m\u001B[43mn\u001B[49m\u001B[43m)\u001B[49m\u001B[38;5;241;43m.\u001B[39;49m\u001B[43mlimit\u001B[49m\u001B[43m(\u001B[49m\u001B[38;5;241;43m1\u001B[39;49m\u001B[43m)\u001B[49m\u001B[43m[\u001B[49m\u001B[38;5;241;43m0\u001B[39;49m\u001B[43m]\u001B[49m\n\u001B[1;32m      9\u001B[0m         nl_tags \u001B[38;5;241m=\u001B[39m \u001B[38;5;124mr\u001B[39m\u001B[38;5;124m'\u001B[39m\u001B[38;5;124m(?:\u001B[39m\u001B[38;5;130;01m\\'\u001B[39;00m\u001B[38;5;124m|\u001B[39m\u001B[38;5;124m\\\u001B[39m\u001B[38;5;124m\"\u001B[39m\u001B[38;5;124m)(?:description|name|title|summary)(?:\u001B[39m\u001B[38;5;130;01m\\'\u001B[39;00m\u001B[38;5;124m|\u001B[39m\u001B[38;5;124m\\\u001B[39m\u001B[38;5;124m\"\u001B[39m\u001B[38;5;124m):\u001B[39m\u001B[38;5;124m\\\u001B[39m\u001B[38;5;124ms(?:\u001B[39m\u001B[38;5;130;01m\\'\u001B[39;00m\u001B[38;5;124m|\u001B[39m\u001B[38;5;124m\\\u001B[39m\u001B[38;5;124m\"\u001B[39m\u001B[38;5;124m)([^\u001B[39m\u001B[38;5;130;01m\\'\u001B[39;00m\u001B[38;5;124m\\\u001B[39m\u001B[38;5;124m\"\u001B[39m\u001B[38;5;124m]+)(?:\u001B[39m\u001B[38;5;130;01m\\'\u001B[39;00m\u001B[38;5;124m|\u001B[39m\u001B[38;5;124m\\\u001B[39m\u001B[38;5;124m\"\u001B[39m\u001B[38;5;124m)\u001B[39m\u001B[38;5;124m'\u001B[39m\n",
      "File \u001B[0;32m/opt/homebrew/Caskroom/miniconda/base/envs/thesis/lib/python3.10/site-packages/pymongo/cursor.py:692\u001B[0m, in \u001B[0;36mCursor.__getitem__\u001B[0;34m(self, index)\u001B[0m\n\u001B[1;32m    690\u001B[0m clone\u001B[38;5;241m.\u001B[39mlimit(\u001B[38;5;241m-\u001B[39m\u001B[38;5;241m1\u001B[39m)  \u001B[38;5;66;03m# use a hard limit\u001B[39;00m\n\u001B[1;32m    691\u001B[0m clone\u001B[38;5;241m.\u001B[39m__query_flags \u001B[38;5;241m&\u001B[39m\u001B[38;5;241m=\u001B[39m \u001B[38;5;241m~\u001B[39mCursorType\u001B[38;5;241m.\u001B[39mTAILABLE_AWAIT  \u001B[38;5;66;03m# PYTHON-1371\u001B[39;00m\n\u001B[0;32m--> 692\u001B[0m \u001B[38;5;28;01mfor\u001B[39;00m doc \u001B[38;5;129;01min\u001B[39;00m clone:\n\u001B[1;32m    693\u001B[0m     \u001B[38;5;28;01mreturn\u001B[39;00m doc\n\u001B[1;32m    694\u001B[0m \u001B[38;5;28;01mraise\u001B[39;00m \u001B[38;5;167;01mIndexError\u001B[39;00m(\u001B[38;5;124m\"\u001B[39m\u001B[38;5;124mno such item for Cursor instance\u001B[39m\u001B[38;5;124m\"\u001B[39m)\n",
      "File \u001B[0;32m/opt/homebrew/Caskroom/miniconda/base/envs/thesis/lib/python3.10/site-packages/pymongo/cursor.py:1238\u001B[0m, in \u001B[0;36mCursor.next\u001B[0;34m(self)\u001B[0m\n\u001B[1;32m   1236\u001B[0m \u001B[38;5;28;01mif\u001B[39;00m \u001B[38;5;28mself\u001B[39m\u001B[38;5;241m.\u001B[39m__empty:\n\u001B[1;32m   1237\u001B[0m     \u001B[38;5;28;01mraise\u001B[39;00m \u001B[38;5;167;01mStopIteration\u001B[39;00m\n\u001B[0;32m-> 1238\u001B[0m \u001B[38;5;28;01mif\u001B[39;00m \u001B[38;5;28mlen\u001B[39m(\u001B[38;5;28mself\u001B[39m\u001B[38;5;241m.\u001B[39m__data) \u001B[38;5;129;01mor\u001B[39;00m \u001B[38;5;28;43mself\u001B[39;49m\u001B[38;5;241;43m.\u001B[39;49m\u001B[43m_refresh\u001B[49m\u001B[43m(\u001B[49m\u001B[43m)\u001B[49m:\n\u001B[1;32m   1239\u001B[0m     \u001B[38;5;28;01mif\u001B[39;00m \u001B[38;5;28mself\u001B[39m\u001B[38;5;241m.\u001B[39m__manipulate:\n\u001B[1;32m   1240\u001B[0m         _db \u001B[38;5;241m=\u001B[39m \u001B[38;5;28mself\u001B[39m\u001B[38;5;241m.\u001B[39m__collection\u001B[38;5;241m.\u001B[39mdatabase\n",
      "File \u001B[0;32m/opt/homebrew/Caskroom/miniconda/base/envs/thesis/lib/python3.10/site-packages/pymongo/cursor.py:1155\u001B[0m, in \u001B[0;36mCursor._refresh\u001B[0;34m(self)\u001B[0m\n\u001B[1;32m   1134\u001B[0m         warnings\u001B[38;5;241m.\u001B[39mwarn(\u001B[38;5;124m\"\u001B[39m\u001B[38;5;124musing a min/max query operator without \u001B[39m\u001B[38;5;124m\"\u001B[39m\n\u001B[1;32m   1135\u001B[0m                       \u001B[38;5;124m\"\u001B[39m\u001B[38;5;124mspecifying a Cursor.hint is deprecated. A \u001B[39m\u001B[38;5;124m\"\u001B[39m\n\u001B[1;32m   1136\u001B[0m                       \u001B[38;5;124m\"\u001B[39m\u001B[38;5;124mhint will be required when using min/max in \u001B[39m\u001B[38;5;124m\"\u001B[39m\n\u001B[1;32m   1137\u001B[0m                       \u001B[38;5;124m\"\u001B[39m\u001B[38;5;124mPyMongo 4.0\u001B[39m\u001B[38;5;124m\"\u001B[39m,\n\u001B[1;32m   1138\u001B[0m                       \u001B[38;5;167;01mDeprecationWarning\u001B[39;00m, stacklevel\u001B[38;5;241m=\u001B[39m\u001B[38;5;241m3\u001B[39m)\n\u001B[1;32m   1139\u001B[0m     q \u001B[38;5;241m=\u001B[39m \u001B[38;5;28mself\u001B[39m\u001B[38;5;241m.\u001B[39m_query_class(\u001B[38;5;28mself\u001B[39m\u001B[38;5;241m.\u001B[39m__query_flags,\n\u001B[1;32m   1140\u001B[0m                           \u001B[38;5;28mself\u001B[39m\u001B[38;5;241m.\u001B[39m__collection\u001B[38;5;241m.\u001B[39mdatabase\u001B[38;5;241m.\u001B[39mname,\n\u001B[1;32m   1141\u001B[0m                           \u001B[38;5;28mself\u001B[39m\u001B[38;5;241m.\u001B[39m__collection\u001B[38;5;241m.\u001B[39mname,\n\u001B[0;32m   (...)\u001B[0m\n\u001B[1;32m   1153\u001B[0m                           \u001B[38;5;28mself\u001B[39m\u001B[38;5;241m.\u001B[39m__allow_disk_use,\n\u001B[1;32m   1154\u001B[0m                           \u001B[38;5;28mself\u001B[39m\u001B[38;5;241m.\u001B[39m__exhaust)\n\u001B[0;32m-> 1155\u001B[0m     \u001B[38;5;28;43mself\u001B[39;49m\u001B[38;5;241;43m.\u001B[39;49m\u001B[43m__send_message\u001B[49m\u001B[43m(\u001B[49m\u001B[43mq\u001B[49m\u001B[43m)\u001B[49m\n\u001B[1;32m   1156\u001B[0m \u001B[38;5;28;01melif\u001B[39;00m \u001B[38;5;28mself\u001B[39m\u001B[38;5;241m.\u001B[39m__id:  \u001B[38;5;66;03m# Get More\u001B[39;00m\n\u001B[1;32m   1157\u001B[0m     \u001B[38;5;28;01mif\u001B[39;00m \u001B[38;5;28mself\u001B[39m\u001B[38;5;241m.\u001B[39m__limit:\n",
      "File \u001B[0;32m/opt/homebrew/Caskroom/miniconda/base/envs/thesis/lib/python3.10/site-packages/pymongo/cursor.py:1044\u001B[0m, in \u001B[0;36mCursor.__send_message\u001B[0;34m(self, operation)\u001B[0m\n\u001B[1;32m   1040\u001B[0m     \u001B[38;5;28;01mraise\u001B[39;00m InvalidOperation(\n\u001B[1;32m   1041\u001B[0m         \u001B[38;5;124m\"\u001B[39m\u001B[38;5;124mexhaust cursors do not support auto encryption\u001B[39m\u001B[38;5;124m\"\u001B[39m)\n\u001B[1;32m   1043\u001B[0m \u001B[38;5;28;01mtry\u001B[39;00m:\n\u001B[0;32m-> 1044\u001B[0m     response \u001B[38;5;241m=\u001B[39m \u001B[43mclient\u001B[49m\u001B[38;5;241;43m.\u001B[39;49m\u001B[43m_run_operation\u001B[49m\u001B[43m(\u001B[49m\n\u001B[1;32m   1045\u001B[0m \u001B[43m        \u001B[49m\u001B[43moperation\u001B[49m\u001B[43m,\u001B[49m\u001B[43m \u001B[49m\u001B[38;5;28;43mself\u001B[39;49m\u001B[38;5;241;43m.\u001B[39;49m\u001B[43m_unpack_response\u001B[49m\u001B[43m,\u001B[49m\u001B[43m \u001B[49m\u001B[43maddress\u001B[49m\u001B[38;5;241;43m=\u001B[39;49m\u001B[38;5;28;43mself\u001B[39;49m\u001B[38;5;241;43m.\u001B[39;49m\u001B[43m__address\u001B[49m\u001B[43m)\u001B[49m\n\u001B[1;32m   1046\u001B[0m \u001B[38;5;28;01mexcept\u001B[39;00m OperationFailure \u001B[38;5;28;01mas\u001B[39;00m exc:\n\u001B[1;32m   1047\u001B[0m     \u001B[38;5;28;01mif\u001B[39;00m exc\u001B[38;5;241m.\u001B[39mcode \u001B[38;5;129;01min\u001B[39;00m _CURSOR_CLOSED_ERRORS \u001B[38;5;129;01mor\u001B[39;00m \u001B[38;5;28mself\u001B[39m\u001B[38;5;241m.\u001B[39m__exhaust:\n\u001B[1;32m   1048\u001B[0m         \u001B[38;5;66;03m# Don't send killCursors because the cursor is already closed.\u001B[39;00m\n",
      "File \u001B[0;32m/opt/homebrew/Caskroom/miniconda/base/envs/thesis/lib/python3.10/site-packages/pymongo/mongo_client.py:1424\u001B[0m, in \u001B[0;36mMongoClient._run_operation\u001B[0;34m(self, operation, unpack_res, address)\u001B[0m\n\u001B[1;32m   1419\u001B[0m \u001B[38;5;28;01mdef\u001B[39;00m \u001B[38;5;21m_cmd\u001B[39m(session, server, sock_info, secondary_ok):\n\u001B[1;32m   1420\u001B[0m     \u001B[38;5;28;01mreturn\u001B[39;00m server\u001B[38;5;241m.\u001B[39mrun_operation(\n\u001B[1;32m   1421\u001B[0m         sock_info, operation, secondary_ok, \u001B[38;5;28mself\u001B[39m\u001B[38;5;241m.\u001B[39m_event_listeners,\n\u001B[1;32m   1422\u001B[0m         unpack_res)\n\u001B[0;32m-> 1424\u001B[0m \u001B[38;5;28;01mreturn\u001B[39;00m \u001B[38;5;28;43mself\u001B[39;49m\u001B[38;5;241;43m.\u001B[39;49m\u001B[43m_retryable_read\u001B[49m\u001B[43m(\u001B[49m\n\u001B[1;32m   1425\u001B[0m \u001B[43m    \u001B[49m\u001B[43m_cmd\u001B[49m\u001B[43m,\u001B[49m\u001B[43m \u001B[49m\u001B[43moperation\u001B[49m\u001B[38;5;241;43m.\u001B[39;49m\u001B[43mread_preference\u001B[49m\u001B[43m,\u001B[49m\u001B[43m \u001B[49m\u001B[43moperation\u001B[49m\u001B[38;5;241;43m.\u001B[39;49m\u001B[43msession\u001B[49m\u001B[43m,\u001B[49m\n\u001B[1;32m   1426\u001B[0m \u001B[43m    \u001B[49m\u001B[43maddress\u001B[49m\u001B[38;5;241;43m=\u001B[39;49m\u001B[43maddress\u001B[49m\u001B[43m,\u001B[49m\u001B[43m \u001B[49m\u001B[43mretryable\u001B[49m\u001B[38;5;241;43m=\u001B[39;49m\u001B[38;5;28;43misinstance\u001B[39;49m\u001B[43m(\u001B[49m\u001B[43moperation\u001B[49m\u001B[43m,\u001B[49m\u001B[43m \u001B[49m\u001B[43mmessage\u001B[49m\u001B[38;5;241;43m.\u001B[39;49m\u001B[43m_Query\u001B[49m\u001B[43m)\u001B[49m\u001B[43m)\u001B[49m\n",
      "File \u001B[0;32m/opt/homebrew/Caskroom/miniconda/base/envs/thesis/lib/python3.10/site-packages/pymongo/mongo_client.py:1525\u001B[0m, in \u001B[0;36mMongoClient._retryable_read\u001B[0;34m(self, func, read_pref, session, address, retryable)\u001B[0m\n\u001B[1;32m   1521\u001B[0m         \u001B[38;5;28;01mif\u001B[39;00m retrying \u001B[38;5;129;01mand\u001B[39;00m \u001B[38;5;129;01mnot\u001B[39;00m retryable:\n\u001B[1;32m   1522\u001B[0m             \u001B[38;5;66;03m# A retry is not possible because this server does\u001B[39;00m\n\u001B[1;32m   1523\u001B[0m             \u001B[38;5;66;03m# not support retryable reads, raise the last error.\u001B[39;00m\n\u001B[1;32m   1524\u001B[0m             \u001B[38;5;28;01mraise\u001B[39;00m last_error\n\u001B[0;32m-> 1525\u001B[0m         \u001B[38;5;28;01mreturn\u001B[39;00m \u001B[43mfunc\u001B[49m\u001B[43m(\u001B[49m\u001B[43msession\u001B[49m\u001B[43m,\u001B[49m\u001B[43m \u001B[49m\u001B[43mserver\u001B[49m\u001B[43m,\u001B[49m\u001B[43m \u001B[49m\u001B[43msock_info\u001B[49m\u001B[43m,\u001B[49m\u001B[43m \u001B[49m\u001B[43msecondary_ok\u001B[49m\u001B[43m)\u001B[49m\n\u001B[1;32m   1526\u001B[0m \u001B[38;5;28;01mexcept\u001B[39;00m ServerSelectionTimeoutError:\n\u001B[1;32m   1527\u001B[0m     \u001B[38;5;28;01mif\u001B[39;00m retrying:\n\u001B[1;32m   1528\u001B[0m         \u001B[38;5;66;03m# The application may think the write was never attempted\u001B[39;00m\n\u001B[1;32m   1529\u001B[0m         \u001B[38;5;66;03m# if we raise ServerSelectionTimeoutError on the retry\u001B[39;00m\n\u001B[1;32m   1530\u001B[0m         \u001B[38;5;66;03m# attempt. Raise the original exception instead.\u001B[39;00m\n",
      "File \u001B[0;32m/opt/homebrew/Caskroom/miniconda/base/envs/thesis/lib/python3.10/site-packages/pymongo/mongo_client.py:1420\u001B[0m, in \u001B[0;36mMongoClient._run_operation.<locals>._cmd\u001B[0;34m(session, server, sock_info, secondary_ok)\u001B[0m\n\u001B[1;32m   1419\u001B[0m \u001B[38;5;28;01mdef\u001B[39;00m \u001B[38;5;21m_cmd\u001B[39m(session, server, sock_info, secondary_ok):\n\u001B[0;32m-> 1420\u001B[0m     \u001B[38;5;28;01mreturn\u001B[39;00m \u001B[43mserver\u001B[49m\u001B[38;5;241;43m.\u001B[39;49m\u001B[43mrun_operation\u001B[49m\u001B[43m(\u001B[49m\n\u001B[1;32m   1421\u001B[0m \u001B[43m        \u001B[49m\u001B[43msock_info\u001B[49m\u001B[43m,\u001B[49m\u001B[43m \u001B[49m\u001B[43moperation\u001B[49m\u001B[43m,\u001B[49m\u001B[43m \u001B[49m\u001B[43msecondary_ok\u001B[49m\u001B[43m,\u001B[49m\u001B[43m \u001B[49m\u001B[38;5;28;43mself\u001B[39;49m\u001B[38;5;241;43m.\u001B[39;49m\u001B[43m_event_listeners\u001B[49m\u001B[43m,\u001B[49m\n\u001B[1;32m   1422\u001B[0m \u001B[43m        \u001B[49m\u001B[43munpack_res\u001B[49m\u001B[43m)\u001B[49m\n",
      "File \u001B[0;32m/opt/homebrew/Caskroom/miniconda/base/envs/thesis/lib/python3.10/site-packages/pymongo/server.py:123\u001B[0m, in \u001B[0;36mServer.run_operation\u001B[0;34m(self, sock_info, operation, set_secondary_okay, listeners, unpack_res)\u001B[0m\n\u001B[1;32m    121\u001B[0m     user_fields \u001B[38;5;241m=\u001B[39m \u001B[38;5;28;01mNone\u001B[39;00m\n\u001B[1;32m    122\u001B[0m     legacy_response \u001B[38;5;241m=\u001B[39m \u001B[38;5;28;01mTrue\u001B[39;00m\n\u001B[0;32m--> 123\u001B[0m docs \u001B[38;5;241m=\u001B[39m \u001B[43munpack_res\u001B[49m\u001B[43m(\u001B[49m\u001B[43mreply\u001B[49m\u001B[43m,\u001B[49m\u001B[43m \u001B[49m\u001B[43moperation\u001B[49m\u001B[38;5;241;43m.\u001B[39;49m\u001B[43mcursor_id\u001B[49m\u001B[43m,\u001B[49m\n\u001B[1;32m    124\u001B[0m \u001B[43m                  \u001B[49m\u001B[43moperation\u001B[49m\u001B[38;5;241;43m.\u001B[39;49m\u001B[43mcodec_options\u001B[49m\u001B[43m,\u001B[49m\n\u001B[1;32m    125\u001B[0m \u001B[43m                  \u001B[49m\u001B[43mlegacy_response\u001B[49m\u001B[38;5;241;43m=\u001B[39;49m\u001B[43mlegacy_response\u001B[49m\u001B[43m,\u001B[49m\n\u001B[1;32m    126\u001B[0m \u001B[43m                  \u001B[49m\u001B[43muser_fields\u001B[49m\u001B[38;5;241;43m=\u001B[39;49m\u001B[43muser_fields\u001B[49m\u001B[43m)\u001B[49m\n\u001B[1;32m    127\u001B[0m \u001B[38;5;28;01mif\u001B[39;00m use_cmd:\n\u001B[1;32m    128\u001B[0m     first \u001B[38;5;241m=\u001B[39m docs[\u001B[38;5;241m0\u001B[39m]\n",
      "File \u001B[0;32m/opt/homebrew/Caskroom/miniconda/base/envs/thesis/lib/python3.10/site-packages/pymongo/cursor.py:1109\u001B[0m, in \u001B[0;36mCursor._unpack_response\u001B[0;34m(self, response, cursor_id, codec_options, user_fields, legacy_response)\u001B[0m\n\u001B[1;32m   1107\u001B[0m \u001B[38;5;28;01mdef\u001B[39;00m \u001B[38;5;21m_unpack_response\u001B[39m(\u001B[38;5;28mself\u001B[39m, response, cursor_id, codec_options,\n\u001B[1;32m   1108\u001B[0m                      user_fields\u001B[38;5;241m=\u001B[39m\u001B[38;5;28;01mNone\u001B[39;00m, legacy_response\u001B[38;5;241m=\u001B[39m\u001B[38;5;28;01mFalse\u001B[39;00m):\n\u001B[0;32m-> 1109\u001B[0m     \u001B[38;5;28;01mreturn\u001B[39;00m \u001B[43mresponse\u001B[49m\u001B[38;5;241;43m.\u001B[39;49m\u001B[43munpack_response\u001B[49m\u001B[43m(\u001B[49m\u001B[43mcursor_id\u001B[49m\u001B[43m,\u001B[49m\u001B[43m \u001B[49m\u001B[43mcodec_options\u001B[49m\u001B[43m,\u001B[49m\u001B[43m \u001B[49m\u001B[43muser_fields\u001B[49m\u001B[43m,\u001B[49m\n\u001B[1;32m   1110\u001B[0m \u001B[43m                                    \u001B[49m\u001B[43mlegacy_response\u001B[49m\u001B[43m)\u001B[49m\n",
      "File \u001B[0;32m/opt/homebrew/Caskroom/miniconda/base/envs/thesis/lib/python3.10/site-packages/pymongo/message.py:1670\u001B[0m, in \u001B[0;36m_OpMsg.unpack_response\u001B[0;34m(self, cursor_id, codec_options, user_fields, legacy_response)\u001B[0m\n\u001B[1;32m   1668\u001B[0m \u001B[38;5;66;03m# If _OpMsg is in-use, this cannot be a legacy response.\u001B[39;00m\n\u001B[1;32m   1669\u001B[0m \u001B[38;5;28;01massert\u001B[39;00m \u001B[38;5;129;01mnot\u001B[39;00m legacy_response\n\u001B[0;32m-> 1670\u001B[0m \u001B[38;5;28;01mreturn\u001B[39;00m \u001B[43mbson\u001B[49m\u001B[38;5;241;43m.\u001B[39;49m\u001B[43m_decode_all_selective\u001B[49m\u001B[43m(\u001B[49m\n\u001B[1;32m   1671\u001B[0m \u001B[43m    \u001B[49m\u001B[38;5;28;43mself\u001B[39;49m\u001B[38;5;241;43m.\u001B[39;49m\u001B[43mpayload_document\u001B[49m\u001B[43m,\u001B[49m\u001B[43m \u001B[49m\u001B[43mcodec_options\u001B[49m\u001B[43m,\u001B[49m\u001B[43m \u001B[49m\u001B[43muser_fields\u001B[49m\u001B[43m)\u001B[49m\n",
      "File \u001B[0;32m/opt/homebrew/Caskroom/miniconda/base/envs/thesis/lib/python3.10/site-packages/bson/__init__.py:1099\u001B[0m, in \u001B[0;36m_decode_all_selective\u001B[0;34m(data, codec_options, fields)\u001B[0m\n\u001B[1;32m   1076\u001B[0m \u001B[38;5;250m\u001B[39m\u001B[38;5;124;03m\"\"\"Decode BSON data to a single document while using user-provided\u001B[39;00m\n\u001B[1;32m   1077\u001B[0m \u001B[38;5;124;03mcustom decoding logic.\u001B[39;00m\n\u001B[1;32m   1078\u001B[0m \n\u001B[0;32m   (...)\u001B[0m\n\u001B[1;32m   1096\u001B[0m \u001B[38;5;124;03m.. versionadded:: 3.8\u001B[39;00m\n\u001B[1;32m   1097\u001B[0m \u001B[38;5;124;03m\"\"\"\u001B[39;00m\n\u001B[1;32m   1098\u001B[0m \u001B[38;5;28;01mif\u001B[39;00m \u001B[38;5;129;01mnot\u001B[39;00m codec_options\u001B[38;5;241m.\u001B[39mtype_registry\u001B[38;5;241m.\u001B[39m_decoder_map:\n\u001B[0;32m-> 1099\u001B[0m     \u001B[38;5;28;01mreturn\u001B[39;00m \u001B[43mdecode_all\u001B[49m\u001B[43m(\u001B[49m\u001B[43mdata\u001B[49m\u001B[43m,\u001B[49m\u001B[43m \u001B[49m\u001B[43mcodec_options\u001B[49m\u001B[43m)\u001B[49m\n\u001B[1;32m   1101\u001B[0m \u001B[38;5;28;01mif\u001B[39;00m \u001B[38;5;129;01mnot\u001B[39;00m fields:\n\u001B[1;32m   1102\u001B[0m     \u001B[38;5;28;01mreturn\u001B[39;00m decode_all(data, codec_options\u001B[38;5;241m.\u001B[39mwith_options(type_registry\u001B[38;5;241m=\u001B[39m\u001B[38;5;28;01mNone\u001B[39;00m))\n",
      "File \u001B[0;32m/opt/homebrew/Caskroom/miniconda/base/envs/thesis/lib/python3.10/site-packages/bson/dbref.py:49\u001B[0m, in \u001B[0;36mDBRef.__init__\u001B[0;34m(self, collection, id, database, _extra, **kwargs)\u001B[0m\n\u001B[1;32m     31\u001B[0m \u001B[38;5;250m\u001B[39m\u001B[38;5;124;03m\"\"\"Initialize a new :class:`DBRef`.\u001B[39;00m\n\u001B[1;32m     32\u001B[0m \n\u001B[1;32m     33\u001B[0m \u001B[38;5;124;03mRaises :class:`TypeError` if `collection` or `database` is not\u001B[39;00m\n\u001B[0;32m   (...)\u001B[0m\n\u001B[1;32m     46\u001B[0m \u001B[38;5;124;03m.. mongodoc:: dbrefs\u001B[39;00m\n\u001B[1;32m     47\u001B[0m \u001B[38;5;124;03m\"\"\"\u001B[39;00m\n\u001B[1;32m     48\u001B[0m \u001B[38;5;28;01mif\u001B[39;00m \u001B[38;5;129;01mnot\u001B[39;00m \u001B[38;5;28misinstance\u001B[39m(collection, string_type):\n\u001B[0;32m---> 49\u001B[0m     \u001B[38;5;28;01mraise\u001B[39;00m \u001B[38;5;167;01mTypeError\u001B[39;00m(\u001B[38;5;124m\"\u001B[39m\u001B[38;5;124mcollection must be an \u001B[39m\u001B[38;5;124m\"\u001B[39m\n\u001B[1;32m     50\u001B[0m                     \u001B[38;5;124m\"\u001B[39m\u001B[38;5;124minstance of \u001B[39m\u001B[38;5;132;01m%s\u001B[39;00m\u001B[38;5;124m\"\u001B[39m \u001B[38;5;241m%\u001B[39m string_type\u001B[38;5;241m.\u001B[39m\u001B[38;5;18m__name__\u001B[39m)\n\u001B[1;32m     51\u001B[0m \u001B[38;5;28;01mif\u001B[39;00m database \u001B[38;5;129;01mis\u001B[39;00m \u001B[38;5;129;01mnot\u001B[39;00m \u001B[38;5;28;01mNone\u001B[39;00m \u001B[38;5;129;01mand\u001B[39;00m \u001B[38;5;129;01mnot\u001B[39;00m \u001B[38;5;28misinstance\u001B[39m(database, string_type):\n\u001B[1;32m     52\u001B[0m     \u001B[38;5;28;01mraise\u001B[39;00m \u001B[38;5;167;01mTypeError\u001B[39;00m(\u001B[38;5;124m\"\u001B[39m\u001B[38;5;124mdatabase must be an \u001B[39m\u001B[38;5;124m\"\u001B[39m\n\u001B[1;32m     53\u001B[0m                     \u001B[38;5;124m\"\u001B[39m\u001B[38;5;124minstance of \u001B[39m\u001B[38;5;132;01m%s\u001B[39;00m\u001B[38;5;124m\"\u001B[39m \u001B[38;5;241m%\u001B[39m string_type\u001B[38;5;241m.\u001B[39m\u001B[38;5;18m__name__\u001B[39m)\n",
      "\u001B[0;31mInvalidBSON\u001B[0m: collection must be an instance of str"
     ]
    }
   ],
   "source": [
    "\n",
    "tot = 0\n",
    "skipped = 0\n",
    "\n",
    "count = swagger.count_documents({})\n",
    "\n",
    "for n in tqdm(range(count)):\n",
    "    # try:\n",
    "        document = swagger.find({}).skip(n).limit(1)[0]\n",
    "        nl_tags = r'(?:\\'|\\\")(?:description|name|title|summary)(?:\\'|\\\"):\\s(?:\\'|\\\")([^\\'\\\"]+)(?:\\'|\\\")'\n",
    "        # for document in enumerate(list(documents)):\n",
    "        # try:\n",
    "        # doc = documents.next()\n",
    "        # print(doc_n)\n",
    "        # document = json.loads(dumps(documents.next()))\n",
    "        # \n",
    "        # obj = {\n",
    "        #     'id': str(document['_id']['$oid']),\n",
    "        #     'url': str(document['_API_reference']),\n",
    "        #     'name': str(document['_name']),\n",
    "        #     'version': str(document['_version']),\n",
    "        #     'embedding': session.run(embeddings, feed_dict={text_ph: [' '.join(re.findall(nl_tags, str(document)))]}).tolist()[0]\n",
    "        # }\n",
    "        # \n",
    "        # es.index(index='migration-test', body=obj)\n",
    "        # \n",
    "        # tot += 1\n",
    "        # sys.stdout.write(\"\\rDoing thing %i\" % tot)\n",
    "        # sys.stdout.flush()\n",
    "        # break\n",
    "    # except InvalidBSON:\n",
    "    #     print(n)\n",
    "    #     skipped += 1\n",
    "    # except TypeError:\n",
    "    #     skipped += 1\n",
    "\n",
    "# print(tot, '/', count)\n",
    "# print(skipped, '/', count)"
   ],
   "metadata": {
    "collapsed": false,
    "ExecuteTime": {
     "end_time": "2023-11-22T11:10:22.036721Z",
     "start_time": "2023-11-22T11:10:03.832284Z"
    }
   },
   "id": "df76f7cac044c963"
  },
  {
   "cell_type": "code",
   "execution_count": null,
   "outputs": [],
   "source": [
    "query = 'eating healthy'\n",
    "\n",
    "knn_query = {\n",
    "    'knn': {\n",
    "        'field': 'embedding',\n",
    "        'query_vector': session.run(embeddings, feed_dict={text_ph: [query]}).tolist()[0],\n",
    "        'k': 5,\n",
    "        'num_candidates': 10000\n",
    "    }\n",
    "}\n",
    "\n",
    "results = es.search(index='migration-test', body=knn_query, _source=['name', 'version'])['hits']['hits']"
   ],
   "metadata": {
    "collapsed": false
   },
   "id": "1761a0fe0e5347d5"
  },
  {
   "cell_type": "code",
   "execution_count": null,
   "outputs": [],
   "source": [
    "print(f'These are the top 5 results of the query \"{query}\":\\n')\n",
    "\n",
    "for ind, result in enumerate(results):\n",
    "    length_name = max([len(el['_source']['name']) for el in results]) + 2\n",
    "    length_version = max([len(el['_source']['version']) for el in results]) + 2\n",
    "\n",
    "    print(\n",
    "        f'\\t{str(ind + 1) + \".\": <2} {result[\"_source\"][\"name\"]: <{length_name}} v.{result[\"_source\"][\"version\"]: <{length_version}} [{str(result[\"_score\"] * 100)[:2]}%]')"
   ],
   "metadata": {
    "collapsed": false
   },
   "id": "6f4473ec12d501a1"
  }
 ],
 "metadata": {
  "kernelspec": {
   "display_name": "Python 3",
   "language": "python",
   "name": "python3"
  },
  "language_info": {
   "codemirror_mode": {
    "name": "ipython",
    "version": 2
   },
   "file_extension": ".py",
   "mimetype": "text/x-python",
   "name": "python",
   "nbconvert_exporter": "python",
   "pygments_lexer": "ipython2",
   "version": "2.7.6"
  }
 },
 "nbformat": 4,
 "nbformat_minor": 5
}
