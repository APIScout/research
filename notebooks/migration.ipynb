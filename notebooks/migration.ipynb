{
 "cells": [
  {
   "cell_type": "code",
   "execution_count": 28,
   "outputs": [],
   "source": [
    "import re\n",
    "import sys\n",
    "import json\n",
    "\n",
    "import urllib3\n",
    "import configparser\n",
    "\n",
    "import tensorflow_hub as hub\n",
    "import tensorflow.compat.v1 as tf\n",
    "\n",
    "from tqdm import tqdm\n",
    "from pymongo import MongoClient\n",
    "from bson.json_util import dumps\n",
    "from elasticsearch import Elasticsearch, helpers"
   ],
   "metadata": {
    "collapsed": false,
    "ExecuteTime": {
     "end_time": "2023-11-15T11:16:19.312745Z",
     "start_time": "2023-11-15T11:16:19.309496Z"
    }
   },
   "id": "532bd5a521c95568"
  },
  {
   "cell_type": "code",
   "execution_count": null,
   "outputs": [],
   "source": [
    "print('Downloading pre-trained embeddings from tensorflow hub...')\n",
    "tf.disable_eager_execution()\n",
    "embed = hub.Module('../out/models/universal-sentence-encoder')\n",
    "text_ph = tf.placeholder(tf.string)\n",
    "embeddings = embed(text_ph)\n",
    "print('Done.')"
   ],
   "metadata": {
    "collapsed": false
   },
   "id": "f649c3874edbf5a5"
  },
  {
   "cell_type": "code",
   "execution_count": null,
   "outputs": [],
   "source": [
    "print('Creating tensorflow session...')\n",
    "config = tf.ConfigProto()\n",
    "config.gpu_options.per_process_gpu_memory_fraction = 0.5\n",
    "session = tf.Session(config=config)\n",
    "session.run(tf.global_variables_initializer())\n",
    "session.run(tf.tables_initializer())\n",
    "print('Done.')"
   ],
   "metadata": {
    "collapsed": false
   },
   "id": "c0992fe87cea3089"
  },
  {
   "cell_type": "code",
   "execution_count": 8,
   "outputs": [],
   "source": [
    "urllib3.disable_warnings()\n",
    "\n",
    "config = configparser.ConfigParser()\n",
    "config.read('../server.ini');"
   ],
   "metadata": {
    "collapsed": false,
    "ExecuteTime": {
     "end_time": "2023-11-15T11:10:29.043486Z",
     "start_time": "2023-11-15T11:10:29.039010Z"
    }
   },
   "id": "fdaa5f782fffcaa0"
  },
  {
   "cell_type": "code",
   "execution_count": null,
   "outputs": [],
   "source": [
    "# Elastic\n",
    "es = Elasticsearch(\n",
    "    config['ELASTIC']['path'],\n",
    "    verify_certs=False\n",
    ");"
   ],
   "metadata": {
    "collapsed": false
   },
   "id": "eabc652be758d9b5"
  },
  {
   "cell_type": "code",
   "execution_count": 11,
   "outputs": [],
   "source": [
    "# Mongo\n",
    "client = MongoClient(config['MONGODB']['path'])\n",
    "swagger = client['swagger']['apis']"
   ],
   "metadata": {
    "collapsed": false,
    "ExecuteTime": {
     "end_time": "2023-11-15T11:10:37.096494Z",
     "start_time": "2023-11-15T11:10:37.091660Z"
    }
   },
   "id": "4c3383b4f9cdee82"
  },
  {
   "cell_type": "code",
   "execution_count": 50,
   "outputs": [],
   "source": [
    "from bson import InvalidBSON\n",
    "\n",
    "\n",
    "def load_json():\n",
    "    cursor = swagger.find({})\n",
    "    docs = swagger.count_documents({})\n",
    "    \n",
    "    for i in tqdm(range(docs), file=sys.stdout):\n",
    "        try:\n",
    "            document = json.loads(dumps(cursor.next()))\n",
    "            nl_tags = r'(?:\\'|\\\")(?:description|name|title|summary)(?:\\'|\\\"):\\s(?:\\'|\\\")([^\\'\\\"]+)(?:\\'|\\\")'\n",
    "            \n",
    "            obj = {\n",
    "                'id': str(document['_id']['$oid']),\n",
    "                'name': str(document['_name']),\n",
    "                'version': str(document['_version']) if not str(document['_version'].startswith('v')) else str(document['_version'][1:]),\n",
    "                'embedding': session.run(embeddings, feed_dict={text_ph: [' '.join(re.findall(nl_tags, str(document)))]}).tolist()[0]\n",
    "            }\n",
    "            \n",
    "            print(f'{i}/{docs}')\n",
    "        except InvalidBSON:\n",
    "            continue\n",
    "        except StopIteration:\n",
    "            continue\n",
    "        \n",
    "        # es.index(index='migration-test', body=obj)"
   ],
   "metadata": {
    "collapsed": false,
    "ExecuteTime": {
     "end_time": "2023-11-15T11:28:59.521764Z",
     "start_time": "2023-11-15T11:28:59.517593Z"
    }
   },
   "id": "fd469e7394aaba47"
  },
  {
   "cell_type": "code",
   "execution_count": null,
   "outputs": [],
   "source": [
    "load_json()"
   ],
   "metadata": {
    "collapsed": false
   },
   "id": "41e16c26b6a8e886"
  },
  {
   "cell_type": "code",
   "execution_count": null,
   "outputs": [],
   "source": [],
   "metadata": {
    "collapsed": false
   },
   "id": "97598d75f2cc22e6"
  }
 ],
 "metadata": {
  "kernelspec": {
   "display_name": "Python 3",
   "language": "python",
   "name": "python3"
  },
  "language_info": {
   "codemirror_mode": {
    "name": "ipython",
    "version": 2
   },
   "file_extension": ".py",
   "mimetype": "text/x-python",
   "name": "python",
   "nbconvert_exporter": "python",
   "pygments_lexer": "ipython2",
   "version": "2.7.6"
  }
 },
 "nbformat": 4,
 "nbformat_minor": 5
}
