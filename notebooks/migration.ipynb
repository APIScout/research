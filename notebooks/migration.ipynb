{
 "cells": [
  {
   "cell_type": "code",
   "execution_count": 2,
   "outputs": [
    {
     "ename": "ModuleNotFoundError",
     "evalue": "No module named 'tensorflow_hub'",
     "output_type": "error",
     "traceback": [
      "\u001B[0;31m---------------------------------------------------------------------------\u001B[0m",
      "\u001B[0;31mModuleNotFoundError\u001B[0m                       Traceback (most recent call last)",
      "Cell \u001B[0;32mIn[2], line 8\u001B[0m\n\u001B[1;32m      5\u001B[0m \u001B[38;5;28;01mimport\u001B[39;00m \u001B[38;5;21;01murllib3\u001B[39;00m\n\u001B[1;32m      6\u001B[0m \u001B[38;5;28;01mimport\u001B[39;00m \u001B[38;5;21;01mconfigparser\u001B[39;00m\n\u001B[0;32m----> 8\u001B[0m \u001B[38;5;28;01mimport\u001B[39;00m \u001B[38;5;21;01mtensorflow_hub\u001B[39;00m \u001B[38;5;28;01mas\u001B[39;00m \u001B[38;5;21;01mhub\u001B[39;00m\n\u001B[1;32m      9\u001B[0m \u001B[38;5;28;01mimport\u001B[39;00m \u001B[38;5;21;01mtensorflow\u001B[39;00m\u001B[38;5;21;01m.\u001B[39;00m\u001B[38;5;21;01mcompat\u001B[39;00m\u001B[38;5;21;01m.\u001B[39;00m\u001B[38;5;21;01mv1\u001B[39;00m \u001B[38;5;28;01mas\u001B[39;00m \u001B[38;5;21;01mtf\u001B[39;00m\n\u001B[1;32m     11\u001B[0m \u001B[38;5;28;01mfrom\u001B[39;00m \u001B[38;5;21;01mmath\u001B[39;00m \u001B[38;5;28;01mimport\u001B[39;00m ceil\n",
      "\u001B[0;31mModuleNotFoundError\u001B[0m: No module named 'tensorflow_hub'"
     ]
    }
   ],
   "source": [
    "import re\n",
    "import sys\n",
    "import json\n",
    "\n",
    "import urllib3\n",
    "import configparser\n",
    "\n",
    "import tensorflow_hub as hub\n",
    "import tensorflow.compat.v1 as tf\n",
    "\n",
    "from math import ceil\n",
    "from tqdm import tqdm\n",
    "from bson import InvalidBSON\n",
    "from pymongo import MongoClient\n",
    "from bson.json_util import dumps\n",
    "from elasticsearch import Elasticsearch"
   ],
   "metadata": {
    "collapsed": false,
    "ExecuteTime": {
     "end_time": "2023-11-22T10:52:24.292176Z",
     "start_time": "2023-11-22T10:52:24.246009Z"
    }
   },
   "id": "532bd5a521c95568"
  },
  {
   "cell_type": "code",
   "execution_count": null,
   "outputs": [],
   "source": [
    "print('Downloading pre-trained embeddings from tensorflow hub...')\n",
    "tf.disable_eager_execution()\n",
    "embed = hub.Module('../out/models/universal-sentence-encoder')\n",
    "text_ph = tf.placeholder(tf.string)\n",
    "embeddings = embed(text_ph)\n",
    "print('Done.')"
   ],
   "metadata": {
    "collapsed": false
   },
   "id": "f649c3874edbf5a5"
  },
  {
   "cell_type": "code",
   "execution_count": null,
   "outputs": [],
   "source": [
    "print('Creating tensorflow session...')\n",
    "config = tf.ConfigProto()\n",
    "config.gpu_options.per_process_gpu_memory_fraction = 0.5\n",
    "session = tf.Session(config=config)\n",
    "session.run(tf.global_variables_initializer())\n",
    "session.run(tf.tables_initializer())\n",
    "print('Done.')"
   ],
   "metadata": {
    "collapsed": false
   },
   "id": "c0992fe87cea3089"
  },
  {
   "cell_type": "code",
   "execution_count": null,
   "outputs": [],
   "source": [
    "urllib3.disable_warnings()\n",
    "\n",
    "config = configparser.ConfigParser()\n",
    "config.read('../server.ini');"
   ],
   "metadata": {
    "collapsed": false
   },
   "id": "fdaa5f782fffcaa0"
  },
  {
   "cell_type": "code",
   "execution_count": null,
   "outputs": [],
   "source": [
    "# Elastic\n",
    "es = Elasticsearch(\n",
    "    config['ELASTIC']['path'],\n",
    "    verify_certs=False\n",
    ");"
   ],
   "metadata": {
    "collapsed": false
   },
   "id": "eabc652be758d9b5"
  },
  {
   "cell_type": "code",
   "execution_count": null,
   "outputs": [],
   "source": [
    "# Mongo\n",
    "client = MongoClient(config['MONGODB']['path'])\n",
    "db = client['swagger']\n",
    "swagger = db['apis']"
   ],
   "metadata": {
    "collapsed": false
   },
   "id": "4c3383b4f9cdee82"
  },
  {
   "cell_type": "code",
   "execution_count": null,
   "outputs": [],
   "source": [
    "\n",
    "tot = 0\n",
    "skipped = 0\n",
    "\n",
    "\n",
    "count = swagger.count_documents()\n",
    "\n",
    "for n in range(count):\n",
    "    # try:\n",
    "    document = swagger.find().skip(n).limit(1)[0]\n",
    "    nl_tags = r'(?:\\'|\\\")(?:description|name|title|summary)(?:\\'|\\\"):\\s(?:\\'|\\\")([^\\'\\\"]+)(?:\\'|\\\")'\n",
    "    print(nl_tags)\n",
    "        # for document in enumerate(list(documents)):\n",
    "        # try:\n",
    "        # doc = documents.next()\n",
    "        # print(doc_n)\n",
    "        # document = json.loads(dumps(documents.next()))\n",
    "        # \n",
    "        # obj = {\n",
    "        #     'id': str(document['_id']['$oid']),\n",
    "        #     'url': str(document['_API_reference']),\n",
    "        #     'name': str(document['_name']),\n",
    "        #     'version': str(document['_version']),\n",
    "        #     'embedding': session.run(embeddings, feed_dict={text_ph: [' '.join(re.findall(nl_tags, str(document)))]}).tolist()[0]\n",
    "        # }\n",
    "        # \n",
    "        # es.index(index='migration-test', body=obj)\n",
    "        # \n",
    "        # tot += 1\n",
    "        # sys.stdout.write(\"\\rDoing thing %i\" % tot)\n",
    "        # sys.stdout.flush()\n",
    "        # break\n",
    "    # except InvalidBSON:\n",
    "    #     print(n)\n",
    "    #     skipped += 1\n",
    "    # except TypeError:\n",
    "    #     skipped += 1\n",
    "\n",
    "# print(tot, '/', count)\n",
    "# print(skipped, '/', count)"
   ],
   "metadata": {
    "collapsed": false
   },
   "id": "df76f7cac044c963"
  },
  {
   "cell_type": "code",
   "execution_count": null,
   "outputs": [],
   "source": [
    "query = 'eating healthy'\n",
    "\n",
    "knn_query = {\n",
    "    'knn': {\n",
    "        'field': 'embedding',\n",
    "        'query_vector': session.run(embeddings, feed_dict={text_ph: [query]}).tolist()[0],\n",
    "        'k': 5,\n",
    "        'num_candidates': 10000\n",
    "    }\n",
    "}\n",
    "\n",
    "results = es.search(index='migration-test', body=knn_query, _source=['name', 'version'])['hits']['hits']"
   ],
   "metadata": {
    "collapsed": false
   },
   "id": "1761a0fe0e5347d5"
  },
  {
   "cell_type": "code",
   "execution_count": null,
   "outputs": [],
   "source": [
    "print(f'These are the top 5 results of the query \"{query}\":\\n')\n",
    "\n",
    "for ind, result in enumerate(results):\n",
    "    length_name = max([len(el['_source']['name']) for el in results]) + 2\n",
    "    length_version = max([len(el['_source']['version']) for el in results]) + 2\n",
    "\n",
    "    print(\n",
    "        f'\\t{str(ind + 1) + \".\": <2} {result[\"_source\"][\"name\"]: <{length_name}} v.{result[\"_source\"][\"version\"]: <{length_version}} [{str(result[\"_score\"] * 100)[:2]}%]')"
   ],
   "metadata": {
    "collapsed": false
   },
   "id": "6f4473ec12d501a1"
  }
 ],
 "metadata": {
  "kernelspec": {
   "display_name": "Python 3",
   "language": "python",
   "name": "python3"
  },
  "language_info": {
   "codemirror_mode": {
    "name": "ipython",
    "version": 2
   },
   "file_extension": ".py",
   "mimetype": "text/x-python",
   "name": "python",
   "nbconvert_exporter": "python",
   "pygments_lexer": "ipython2",
   "version": "2.7.6"
  }
 },
 "nbformat": 4,
 "nbformat_minor": 5
}
