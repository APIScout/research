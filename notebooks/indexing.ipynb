{
 "cells": [
  {
   "cell_type": "code",
   "execution_count": 67,
   "id": "initial_id",
   "metadata": {
    "collapsed": true,
    "ExecuteTime": {
     "end_time": "2023-11-07T23:42:48.905693Z",
     "start_time": "2023-11-07T23:42:48.896913Z"
    }
   },
   "outputs": [],
   "source": [
    "import re\n",
    "import os\n",
    "import sys\n",
    "import json\n",
    "import tarfile\n",
    "\n",
    "from tqdm import tqdm\n",
    "from nltk import PorterStemmer\n",
    "from nltk.corpus import stopwords\n",
    "from gensim.models import Doc2Vec\n",
    "from gensim.models.doc2vec import TaggedDocument"
   ]
  },
  {
   "cell_type": "code",
   "execution_count": 91,
   "outputs": [],
   "source": [
    "def train_doc2vec(corpus, retrain=False):\n",
    "    path = '../out/models/word2vec.model'\n",
    "    \n",
    "    if not os.path.isfile(path) or retrain:\n",
    "        tagged_documents = [TaggedDocument(doc, [i]) for i, doc in enumerate(corpus)]\n",
    "        doc2vec = Doc2Vec(tagged_documents, epochs=100, workers=10)\n",
    "        \n",
    "        doc2vec.save(path)\n",
    "    else:\n",
    "        doc2vec = Doc2Vec.load(path)\n",
    "    \n",
    "    return doc2vec"
   ],
   "metadata": {
    "collapsed": false,
    "ExecuteTime": {
     "end_time": "2023-11-07T23:56:25.324426Z",
     "start_time": "2023-11-07T23:56:25.319193Z"
    }
   },
   "id": "4e506aa184fc4dda"
  },
  {
   "cell_type": "code",
   "execution_count": 52,
   "outputs": [],
   "source": [
    "def get_top_n_docs(model, names, versions, query, n=5):\n",
    "    inferred_vec = model.infer_vector(clean(query))\n",
    "    results = model.dv.most_similar([inferred_vec], topn=n)\n",
    "    \n",
    "    length_name = max([len(names[el[0]]) for el in results]) + 2\n",
    "    length_version = max([len(versions[el[0]]) for el in results]) + 2\n",
    "    print(f'These are the top {n} results of the query \"{query}\":\\n')\n",
    "    \n",
    "    for ind, result in enumerate(results):\n",
    "        print(f'\\t{str(ind + 1) + \".\": <2} {names[result[0]]: <{length_name}} v.{versions[result[0]]: <{length_version}} [{str(result[1] * 100)[:2]}%]')\n",
    "    \n",
    "    return results"
   ],
   "metadata": {
    "collapsed": false,
    "ExecuteTime": {
     "end_time": "2023-11-07T23:30:43.332245Z",
     "start_time": "2023-11-07T23:30:43.327442Z"
    }
   },
   "id": "44c89702e566c55b"
  },
  {
   "cell_type": "code",
   "execution_count": 4,
   "outputs": [],
   "source": [
    "def clean(raw):\n",
    "    stemmer = PorterStemmer()\n",
    "    stopword_set = set(stopwords.words('english'))\n",
    "    \n",
    "    words = re.sub(r'https?:\\/\\/(www\\.)?[-a-zA-Z0-9@:%._\\+~#=]{1,256}\\.[a-zA-Z0-9()]{1,6}\\b([-a-zA-Z0-9()@:%_\\+.~#?&\\/\\/=]*)', '', raw)\n",
    "    words = re.sub(r'\\\\[\\w]', ' ', words)\n",
    "    \n",
    "    words = re.sub(r'[^\\w\\s]+', ' ', words)\n",
    "    words = re.findall(r'([a-z]+|[A-Z][a-z]+|[A-Z]+)', words)\n",
    "    words = [word.lower() for word in words]\n",
    "    words = [word for word in words if word not in stopword_set]\n",
    "    words = [stemmer.stem(word) for word in words]\n",
    "    \n",
    "    return words"
   ],
   "metadata": {
    "collapsed": false,
    "ExecuteTime": {
     "end_time": "2023-11-07T23:01:51.264788Z",
     "start_time": "2023-11-07T23:01:51.261506Z"
    }
   },
   "id": "8b2278d33a87334f"
  },
  {
   "cell_type": "markdown",
   "source": [],
   "metadata": {
    "collapsed": false
   },
   "id": "ab8b33dbc8923509"
  },
  {
   "cell_type": "code",
   "execution_count": 36,
   "outputs": [
    {
     "name": "stdout",
     "output_type": "stream",
     "text": [
      "100%|██████████| 3996/3996 [02:27<00:00, 27.17it/s]\n"
     ]
    }
   ],
   "source": [
    "specs = []\n",
    "specs_names = []\n",
    "specs_versions = []\n",
    "\n",
    "tar = tarfile.open('../data/data.tar.gz', 'r:gz')\n",
    "nl_tags = r'(?:\\'|\\\")(?:description|name|title|summary)(?:\\'|\\\"):\\s(?:\\'|\\\")([^\\'\\\"]+)(?:\\'|\\\")'\n",
    "\n",
    "\n",
    "for spec in tqdm(tar.getmembers(), file=sys.stdout):\n",
    "    file = tar.extractfile(spec)\n",
    "    \n",
    "    if file is not None:\n",
    "        try:\n",
    "            contents = json.load(file)\n",
    "            \n",
    "            specs_names.append(contents['info']['title'])\n",
    "            specs_versions.append(contents['info']['version'])\n",
    "            specs.append(clean(' '.join(re.findall(nl_tags, str(contents)))))\n",
    "        except json.JSONDecodeError:\n",
    "            continue"
   ],
   "metadata": {
    "collapsed": false,
    "ExecuteTime": {
     "end_time": "2023-11-07T23:26:02.745568Z",
     "start_time": "2023-11-07T23:23:34.373168Z"
    }
   },
   "id": "e21e53e2b6b44ad3"
  },
  {
   "cell_type": "code",
   "execution_count": null,
   "outputs": [],
   "source": [
    "doc2vec_model = train_doc2vec(specs, retrain=True)"
   ],
   "metadata": {
    "collapsed": false
   },
   "id": "e6b41ee5f06ef0a9"
  },
  {
   "cell_type": "code",
   "execution_count": 94,
   "outputs": [
    {
     "name": "stdout",
     "output_type": "stream",
     "text": [
      "These are the top 5 results of the query \"network manager\":\n",
      "\n",
      "\t1. NetworkManagementClient   v.2017-11-01   [69%]\n",
      "\t2. NetworkManagementClient   v.2017-09-01   [69%]\n",
      "\t3. Transform                 v.1.0.0        [68%]\n",
      "\t4. NetworkManagementClient   v.2018-01-01   [67%]\n",
      "\t5. NetworkManagementClient   v.2017-10-01   [67%]\n"
     ]
    }
   ],
   "source": [
    "# country data standard api\n",
    "# client to manage network / network manager\n",
    "# football match predictor\n",
    "# policy administration\n",
    "\n",
    "get_top_n_docs(doc2vec_model, specs_names, specs_versions, \"network manager\", n=5);"
   ],
   "metadata": {
    "collapsed": false,
    "ExecuteTime": {
     "end_time": "2023-11-07T23:56:59.331360Z",
     "start_time": "2023-11-07T23:56:59.235771Z"
    }
   },
   "id": "30fb53786c9378fe"
  },
  {
   "cell_type": "code",
   "execution_count": null,
   "outputs": [],
   "source": [],
   "metadata": {
    "collapsed": false
   },
   "id": "b51d7de9e98b3ef2"
  }
 ],
 "metadata": {
  "kernelspec": {
   "display_name": "Python 3",
   "language": "python",
   "name": "python3"
  },
  "language_info": {
   "codemirror_mode": {
    "name": "ipython",
    "version": 2
   },
   "file_extension": ".py",
   "mimetype": "text/x-python",
   "name": "python",
   "nbconvert_exporter": "python",
   "pygments_lexer": "ipython2",
   "version": "2.7.6"
  }
 },
 "nbformat": 4,
 "nbformat_minor": 5
}
