{
 "cells": [
  {
   "cell_type": "code",
   "execution_count": 1,
   "id": "initial_id",
   "metadata": {
    "collapsed": true,
    "ExecuteTime": {
     "end_time": "2023-11-14T15:31:13.082983Z",
     "start_time": "2023-11-14T15:31:11.359778Z"
    }
   },
   "outputs": [],
   "source": [
    "import re\n",
    "import os\n",
    "import sys\n",
    "import json\n",
    "import tarfile\n",
    "\n",
    "from tqdm import tqdm\n",
    "from nltk import PorterStemmer\n",
    "from nltk.corpus import stopwords\n",
    "from gensim.models import Doc2Vec\n",
    "from gensim.models.doc2vec import TaggedDocument"
   ]
  },
  {
   "cell_type": "code",
   "execution_count": 2,
   "outputs": [],
   "source": [
    "def train_doc2vec(corpus, retrain=False):\n",
    "    path = '../out/models/doc2vec.model'\n",
    "    \n",
    "    if not os.path.isfile(path) or retrain:\n",
    "        tagged_documents = [TaggedDocument(doc, [i]) for i, doc in enumerate(corpus)]\n",
    "        doc2vec = Doc2Vec(tagged_documents, epochs=100, workers=10)\n",
    "        \n",
    "        doc2vec.save(path)\n",
    "    else:\n",
    "        doc2vec = Doc2Vec.load(path)\n",
    "    \n",
    "    return doc2vec"
   ],
   "metadata": {
    "collapsed": false,
    "ExecuteTime": {
     "end_time": "2023-11-14T15:31:13.086959Z",
     "start_time": "2023-11-14T15:31:13.083421Z"
    }
   },
   "id": "4e506aa184fc4dda"
  },
  {
   "cell_type": "code",
   "execution_count": 3,
   "outputs": [],
   "source": [
    "def get_top_n_docs(model, names, versions, query, n=5):\n",
    "    inferred_vec = model.infer_vector(clean(query))\n",
    "    results = model.dv.most_similar([inferred_vec], topn=n)\n",
    "    \n",
    "    length_name = max([len(names[el[0]]) for el in results]) + 2\n",
    "    length_version = max([len(versions[el[0]]) for el in results]) + 2\n",
    "    print(f'These are the top {n} results of the query \"{query}\":\\n')\n",
    "    \n",
    "    for ind, result in enumerate(results):\n",
    "        print(f'\\t{str(ind + 1) + \".\": <2} {names[result[0]]: <{length_name}} v.{versions[result[0]]: <{length_version}} [{str(result[1] * 100)[:2]}%]')\n",
    "    \n",
    "    return results"
   ],
   "metadata": {
    "collapsed": false,
    "ExecuteTime": {
     "end_time": "2023-11-14T15:31:13.090438Z",
     "start_time": "2023-11-14T15:31:13.086746Z"
    }
   },
   "id": "44c89702e566c55b"
  },
  {
   "cell_type": "code",
   "execution_count": 4,
   "outputs": [],
   "source": [
    "def clean(raw):\n",
    "    stemmer = PorterStemmer()\n",
    "    stopword_set = set(stopwords.words('english'))\n",
    "    \n",
    "    words = re.sub(r'https?:\\/\\/(www\\.)?[-a-zA-Z0-9@:%._\\+~#=]{1,256}\\.[a-zA-Z0-9()]{1,6}\\b([-a-zA-Z0-9()@:%_\\+.~#?&\\/\\/=]*)', '', raw)\n",
    "    words = re.sub(r'\\\\[\\w]', ' ', words)\n",
    "    \n",
    "    words = re.sub(r'[^\\w\\s]+', ' ', words)\n",
    "    words = re.findall(r'([a-z]+|[A-Z][a-z]+|[A-Z]+)', words)\n",
    "    words = [word.lower() for word in words]\n",
    "    words = [word for word in words if word not in stopword_set]\n",
    "    words = [stemmer.stem(word) for word in words]\n",
    "    \n",
    "    return words"
   ],
   "metadata": {
    "collapsed": false,
    "ExecuteTime": {
     "end_time": "2023-11-14T15:31:13.093865Z",
     "start_time": "2023-11-14T15:31:13.090067Z"
    }
   },
   "id": "8b2278d33a87334f"
  },
  {
   "cell_type": "code",
   "execution_count": 5,
   "outputs": [
    {
     "name": "stdout",
     "output_type": "stream",
     "text": [
      "100%|██████████| 3996/3996 [02:41<00:00, 24.82it/s]\n"
     ]
    }
   ],
   "source": [
    "specs = []\n",
    "specs_names = []\n",
    "specs_versions = []\n",
    "\n",
    "tar = tarfile.open('../data/data.tar.gz', 'r:gz')\n",
    "nl_tags = r'(?:\\'|\\\")(?:description|name|title|summary)(?:\\'|\\\"):\\s(?:\\'|\\\")([^\\'\\\"]+)(?:\\'|\\\")'\n",
    "\n",
    "\n",
    "for spec in tqdm(tar.getmembers(), file=sys.stdout):\n",
    "    file = tar.extractfile(spec)\n",
    "    \n",
    "    if file is not None:\n",
    "        try:\n",
    "            contents = json.load(file)\n",
    "            \n",
    "            specs_names.append(contents['info']['title'])\n",
    "            specs_versions.append(contents['info']['version'] if not contents['info']['version'].startswith('v') else contents['info']['version'][1:])\n",
    "            specs.append(clean(' '.join(re.findall(nl_tags, str(contents)))))\n",
    "        except json.JSONDecodeError:\n",
    "            continue"
   ],
   "metadata": {
    "collapsed": false,
    "ExecuteTime": {
     "end_time": "2023-11-14T15:33:55.459603Z",
     "start_time": "2023-11-14T15:31:13.094462Z"
    }
   },
   "id": "e21e53e2b6b44ad3"
  },
  {
   "cell_type": "code",
   "execution_count": 6,
   "outputs": [],
   "source": [
    "doc2vec_model = train_doc2vec(specs)\n",
    "# doc2vec_model = train_doc2vec(specs)"
   ],
   "metadata": {
    "collapsed": false,
    "ExecuteTime": {
     "end_time": "2023-11-14T15:33:55.512138Z",
     "start_time": "2023-11-14T15:33:55.458442Z"
    }
   },
   "id": "e6b41ee5f06ef0a9"
  },
  {
   "cell_type": "code",
   "execution_count": 7,
   "outputs": [
    {
     "name": "stdout",
     "output_type": "stream",
     "text": [
      "These are the top 5 results of the query \"weather forecast by city\":\n",
      "\n",
      "\t1. Transform                 v.1.0.0        [60%]\n",
      "\t2. SpellCheckPro             v.1.0.0        [59%]\n",
      "\t3. NetworkManagementClient   v.2016-12-01   [56%]\n",
      "\t4. NetworkManagementClient   v.2017-03-01   [56%]\n",
      "\t5. NetworkManagementClient   v.2018-10-01   [56%]\n"
     ]
    }
   ],
   "source": [
    "# country data standard api\n",
    "# client to manage network / network manager\n",
    "# football match predictor\n",
    "# policy administration\n",
    "# checking email mailboxes / email checker\n",
    "# news\n",
    "\n",
    "get_top_n_docs(doc2vec_model, specs_names, specs_versions, \"weather forecast by city\", n=5);"
   ],
   "metadata": {
    "collapsed": false,
    "ExecuteTime": {
     "end_time": "2023-11-14T15:33:55.640513Z",
     "start_time": "2023-11-14T15:33:55.514889Z"
    }
   },
   "id": "30fb53786c9378fe"
  }
 ],
 "metadata": {
  "kernelspec": {
   "display_name": "Python 3",
   "language": "python",
   "name": "python3"
  },
  "language_info": {
   "codemirror_mode": {
    "name": "ipython",
    "version": 2
   },
   "file_extension": ".py",
   "mimetype": "text/x-python",
   "name": "python",
   "nbconvert_exporter": "python",
   "pygments_lexer": "ipython2",
   "version": "2.7.6"
  }
 },
 "nbformat": 4,
 "nbformat_minor": 5
}
